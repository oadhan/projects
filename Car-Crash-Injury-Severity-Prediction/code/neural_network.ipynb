{
  "nbformat": 4,
  "nbformat_minor": 0,
  "metadata": {
    "colab": {
      "provenance": [],
      "toc_visible": true
    },
    "kernelspec": {
      "name": "python3",
      "display_name": "Python 3"
    },
    "language_info": {
      "name": "python"
    }
  },
  "cells": [
    {
      "cell_type": "markdown",
      "source": [
        "#Neural Network\n",
        "\n",
        "Oviya Adhan\n",
        "\n",
        "Final Project\n",
        "\n",
        "DATASCI 207 Machine Learning\n",
        "\n",
        "Professor Cornelia Paulik"
      ],
      "metadata": {
        "id": "ahtIAkFQPoSf"
      }
    },
    {
      "cell_type": "code",
      "execution_count": 59,
      "metadata": {
        "id": "Win1kyjYPYqW"
      },
      "outputs": [],
      "source": [
        "# Import libraries\n",
        "import pandas as pd\n",
        "import numpy as np\n",
        "import matplotlib.pyplot as plt\n",
        "import seaborn as sns\n",
        "\n",
        "import tensorflow as tf\n",
        "from tensorflow import keras\n",
        "from keras import metrics\n",
        "from sklearn.metrics import classification_report\n",
        "from sklearn.utils import class_weight\n",
        "tf.get_logger().setLevel('INFO')"
      ]
    },
    {
      "cell_type": "code",
      "source": [
        "# Load data\n",
        "train_df = pd.read_csv('train_final.csv')\n",
        "val_df = pd.read_csv('val_final.csv')\n",
        "test_df = pd.read_csv('test_final.csv')"
      ],
      "metadata": {
        "id": "YQRCyjIQQZ5s"
      },
      "execution_count": 60,
      "outputs": []
    },
    {
      "cell_type": "code",
      "source": [
        "# Check data\n",
        "train_df.head()"
      ],
      "metadata": {
        "colab": {
          "base_uri": "https://localhost:8080/",
          "height": 287
        },
        "id": "8sWamZG9UgpR",
        "outputId": "87f306e3-acde-4a9b-d1a9-18fe7f26df92"
      },
      "execution_count": 61,
      "outputs": [
        {
          "output_type": "execute_result",
          "data": {
            "text/plain": [
              "   IsHighwayRelated ExtentOfInjuryCode  SpeedLimit  \\\n",
              "0                 1          No Injury    0.892906   \n",
              "1                 1              Minor    1.225424   \n",
              "2                 1          No Injury   -0.437167   \n",
              "3                 0              Minor   -2.432276   \n",
              "4                 1          No Injury    0.227869   \n",
              "\n",
              "   CollisionTypeDescription_BROADSIDE  CollisionTypeDescription_HEAD-ON  \\\n",
              "0                                   0                                 0   \n",
              "1                                   0                                 0   \n",
              "2                                   0                                 0   \n",
              "3                                   0                                 0   \n",
              "4                                   0                                 0   \n",
              "\n",
              "   CollisionTypeDescription_HIT OBJECT  CollisionTypeDescription_OTHER  \\\n",
              "0                                    0                               0   \n",
              "1                                    0                               0   \n",
              "2                                    0                               0   \n",
              "3                                    0                               0   \n",
              "4                                    1                               0   \n",
              "\n",
              "   CollisionTypeDescription_OVERTURNED  CollisionTypeDescription_REAR END  \\\n",
              "0                                    0                                  0   \n",
              "1                                    0                                  0   \n",
              "2                                    0                                  1   \n",
              "3                                    0                                  0   \n",
              "4                                    0                                  0   \n",
              "\n",
              "   CollisionTypeDescription_SIDE SWIPE  ...  \\\n",
              "0                                    1  ...   \n",
              "1                                    1  ...   \n",
              "2                                    0  ...   \n",
              "3                                    1  ...   \n",
              "4                                    0  ...   \n",
              "\n",
              "   SpecialInformation_CELL PHONE NOT IN USE / SCHOOL BUS RELATED  \\\n",
              "0                                                  0               \n",
              "1                                                  0               \n",
              "2                                                  0               \n",
              "3                                                  0               \n",
              "4                                                  0               \n",
              "\n",
              "   SpecialInformation_CELL PHONE NOT IN USE  \\\n",
              "0                                         1   \n",
              "1                                         1   \n",
              "2                                         1   \n",
              "3                                         1   \n",
              "4                                         1   \n",
              "\n",
              "   SpecialInformation_CELL PHONE USE UNKNOWN  \\\n",
              "0                                          0   \n",
              "1                                          1   \n",
              "2                                          1   \n",
              "3                                          0   \n",
              "4                                          0   \n",
              "\n",
              "   SpecialInformation_HAZARDOUS MATERIAL / CELL PHONE NOT IN USE  \\\n",
              "0                                                  0               \n",
              "1                                                  0               \n",
              "2                                                  0               \n",
              "3                                                  0               \n",
              "4                                                  0               \n",
              "\n",
              "   SpecialInformation_HAZARDOUS MATERIAL  \\\n",
              "0                                      0   \n",
              "1                                      0   \n",
              "2                                      0   \n",
              "3                                      0   \n",
              "4                                      0   \n",
              "\n",
              "   SpecialInformation_CELL PHONE NOT IN USE / CELL PHONE USE UNKNOWN  \\\n",
              "0                                                  0                   \n",
              "1                                                  0                   \n",
              "2                                                  0                   \n",
              "3                                                  0                   \n",
              "4                                                  0                   \n",
              "\n",
              "   SpecialInformation_CELL PHONE USE UNKNOWN / SCHOOL BUS RELATED  \\\n",
              "0                                                  0                \n",
              "1                                                  0                \n",
              "2                                                  0                \n",
              "3                                                  0                \n",
              "4                                                  0                \n",
              "\n",
              "   SpecialInformation_HAZARDOUS MATERIAL / CELL PHONE HANDSFREE IN USE  \\\n",
              "0                                                  0                     \n",
              "1                                                  0                     \n",
              "2                                                  0                     \n",
              "3                                                  0                     \n",
              "4                                                  0                     \n",
              "\n",
              "   SpecialInformation_HAZARDOUS MATERIAL / CELL PHONE USE UNKNOWN  \\\n",
              "0                                                  0                \n",
              "1                                                  0                \n",
              "2                                                  0                \n",
              "3                                                  0                \n",
              "4                                                  0                \n",
              "\n",
              "   SpecialInformation_SCHOOL BUS RELATED  \n",
              "0                                      0  \n",
              "1                                      0  \n",
              "2                                      0  \n",
              "3                                      0  \n",
              "4                                      0  \n",
              "\n",
              "[5 rows x 458 columns]"
            ],
            "text/html": [
              "\n",
              "  <div id=\"df-90e29721-8d21-4251-8de5-cacd0f99c1f4\" class=\"colab-df-container\">\n",
              "    <div>\n",
              "<style scoped>\n",
              "    .dataframe tbody tr th:only-of-type {\n",
              "        vertical-align: middle;\n",
              "    }\n",
              "\n",
              "    .dataframe tbody tr th {\n",
              "        vertical-align: top;\n",
              "    }\n",
              "\n",
              "    .dataframe thead th {\n",
              "        text-align: right;\n",
              "    }\n",
              "</style>\n",
              "<table border=\"1\" class=\"dataframe\">\n",
              "  <thead>\n",
              "    <tr style=\"text-align: right;\">\n",
              "      <th></th>\n",
              "      <th>IsHighwayRelated</th>\n",
              "      <th>ExtentOfInjuryCode</th>\n",
              "      <th>SpeedLimit</th>\n",
              "      <th>CollisionTypeDescription_BROADSIDE</th>\n",
              "      <th>CollisionTypeDescription_HEAD-ON</th>\n",
              "      <th>CollisionTypeDescription_HIT OBJECT</th>\n",
              "      <th>CollisionTypeDescription_OTHER</th>\n",
              "      <th>CollisionTypeDescription_OVERTURNED</th>\n",
              "      <th>CollisionTypeDescription_REAR END</th>\n",
              "      <th>CollisionTypeDescription_SIDE SWIPE</th>\n",
              "      <th>...</th>\n",
              "      <th>SpecialInformation_CELL PHONE NOT IN USE / SCHOOL BUS RELATED</th>\n",
              "      <th>SpecialInformation_CELL PHONE NOT IN USE</th>\n",
              "      <th>SpecialInformation_CELL PHONE USE UNKNOWN</th>\n",
              "      <th>SpecialInformation_HAZARDOUS MATERIAL / CELL PHONE NOT IN USE</th>\n",
              "      <th>SpecialInformation_HAZARDOUS MATERIAL</th>\n",
              "      <th>SpecialInformation_CELL PHONE NOT IN USE / CELL PHONE USE UNKNOWN</th>\n",
              "      <th>SpecialInformation_CELL PHONE USE UNKNOWN / SCHOOL BUS RELATED</th>\n",
              "      <th>SpecialInformation_HAZARDOUS MATERIAL / CELL PHONE HANDSFREE IN USE</th>\n",
              "      <th>SpecialInformation_HAZARDOUS MATERIAL / CELL PHONE USE UNKNOWN</th>\n",
              "      <th>SpecialInformation_SCHOOL BUS RELATED</th>\n",
              "    </tr>\n",
              "  </thead>\n",
              "  <tbody>\n",
              "    <tr>\n",
              "      <th>0</th>\n",
              "      <td>1</td>\n",
              "      <td>No Injury</td>\n",
              "      <td>0.892906</td>\n",
              "      <td>0</td>\n",
              "      <td>0</td>\n",
              "      <td>0</td>\n",
              "      <td>0</td>\n",
              "      <td>0</td>\n",
              "      <td>0</td>\n",
              "      <td>1</td>\n",
              "      <td>...</td>\n",
              "      <td>0</td>\n",
              "      <td>1</td>\n",
              "      <td>0</td>\n",
              "      <td>0</td>\n",
              "      <td>0</td>\n",
              "      <td>0</td>\n",
              "      <td>0</td>\n",
              "      <td>0</td>\n",
              "      <td>0</td>\n",
              "      <td>0</td>\n",
              "    </tr>\n",
              "    <tr>\n",
              "      <th>1</th>\n",
              "      <td>1</td>\n",
              "      <td>Minor</td>\n",
              "      <td>1.225424</td>\n",
              "      <td>0</td>\n",
              "      <td>0</td>\n",
              "      <td>0</td>\n",
              "      <td>0</td>\n",
              "      <td>0</td>\n",
              "      <td>0</td>\n",
              "      <td>1</td>\n",
              "      <td>...</td>\n",
              "      <td>0</td>\n",
              "      <td>1</td>\n",
              "      <td>1</td>\n",
              "      <td>0</td>\n",
              "      <td>0</td>\n",
              "      <td>0</td>\n",
              "      <td>0</td>\n",
              "      <td>0</td>\n",
              "      <td>0</td>\n",
              "      <td>0</td>\n",
              "    </tr>\n",
              "    <tr>\n",
              "      <th>2</th>\n",
              "      <td>1</td>\n",
              "      <td>No Injury</td>\n",
              "      <td>-0.437167</td>\n",
              "      <td>0</td>\n",
              "      <td>0</td>\n",
              "      <td>0</td>\n",
              "      <td>0</td>\n",
              "      <td>0</td>\n",
              "      <td>1</td>\n",
              "      <td>0</td>\n",
              "      <td>...</td>\n",
              "      <td>0</td>\n",
              "      <td>1</td>\n",
              "      <td>1</td>\n",
              "      <td>0</td>\n",
              "      <td>0</td>\n",
              "      <td>0</td>\n",
              "      <td>0</td>\n",
              "      <td>0</td>\n",
              "      <td>0</td>\n",
              "      <td>0</td>\n",
              "    </tr>\n",
              "    <tr>\n",
              "      <th>3</th>\n",
              "      <td>0</td>\n",
              "      <td>Minor</td>\n",
              "      <td>-2.432276</td>\n",
              "      <td>0</td>\n",
              "      <td>0</td>\n",
              "      <td>0</td>\n",
              "      <td>0</td>\n",
              "      <td>0</td>\n",
              "      <td>0</td>\n",
              "      <td>1</td>\n",
              "      <td>...</td>\n",
              "      <td>0</td>\n",
              "      <td>1</td>\n",
              "      <td>0</td>\n",
              "      <td>0</td>\n",
              "      <td>0</td>\n",
              "      <td>0</td>\n",
              "      <td>0</td>\n",
              "      <td>0</td>\n",
              "      <td>0</td>\n",
              "      <td>0</td>\n",
              "    </tr>\n",
              "    <tr>\n",
              "      <th>4</th>\n",
              "      <td>1</td>\n",
              "      <td>No Injury</td>\n",
              "      <td>0.227869</td>\n",
              "      <td>0</td>\n",
              "      <td>0</td>\n",
              "      <td>1</td>\n",
              "      <td>0</td>\n",
              "      <td>0</td>\n",
              "      <td>0</td>\n",
              "      <td>0</td>\n",
              "      <td>...</td>\n",
              "      <td>0</td>\n",
              "      <td>1</td>\n",
              "      <td>0</td>\n",
              "      <td>0</td>\n",
              "      <td>0</td>\n",
              "      <td>0</td>\n",
              "      <td>0</td>\n",
              "      <td>0</td>\n",
              "      <td>0</td>\n",
              "      <td>0</td>\n",
              "    </tr>\n",
              "  </tbody>\n",
              "</table>\n",
              "<p>5 rows × 458 columns</p>\n",
              "</div>\n",
              "    <div class=\"colab-df-buttons\">\n",
              "\n",
              "  <div class=\"colab-df-container\">\n",
              "    <button class=\"colab-df-convert\" onclick=\"convertToInteractive('df-90e29721-8d21-4251-8de5-cacd0f99c1f4')\"\n",
              "            title=\"Convert this dataframe to an interactive table.\"\n",
              "            style=\"display:none;\">\n",
              "\n",
              "  <svg xmlns=\"http://www.w3.org/2000/svg\" height=\"24px\" viewBox=\"0 -960 960 960\">\n",
              "    <path d=\"M120-120v-720h720v720H120Zm60-500h600v-160H180v160Zm220 220h160v-160H400v160Zm0 220h160v-160H400v160ZM180-400h160v-160H180v160Zm440 0h160v-160H620v160ZM180-180h160v-160H180v160Zm440 0h160v-160H620v160Z\"/>\n",
              "  </svg>\n",
              "    </button>\n",
              "\n",
              "  <style>\n",
              "    .colab-df-container {\n",
              "      display:flex;\n",
              "      gap: 12px;\n",
              "    }\n",
              "\n",
              "    .colab-df-convert {\n",
              "      background-color: #E8F0FE;\n",
              "      border: none;\n",
              "      border-radius: 50%;\n",
              "      cursor: pointer;\n",
              "      display: none;\n",
              "      fill: #1967D2;\n",
              "      height: 32px;\n",
              "      padding: 0 0 0 0;\n",
              "      width: 32px;\n",
              "    }\n",
              "\n",
              "    .colab-df-convert:hover {\n",
              "      background-color: #E2EBFA;\n",
              "      box-shadow: 0px 1px 2px rgba(60, 64, 67, 0.3), 0px 1px 3px 1px rgba(60, 64, 67, 0.15);\n",
              "      fill: #174EA6;\n",
              "    }\n",
              "\n",
              "    .colab-df-buttons div {\n",
              "      margin-bottom: 4px;\n",
              "    }\n",
              "\n",
              "    [theme=dark] .colab-df-convert {\n",
              "      background-color: #3B4455;\n",
              "      fill: #D2E3FC;\n",
              "    }\n",
              "\n",
              "    [theme=dark] .colab-df-convert:hover {\n",
              "      background-color: #434B5C;\n",
              "      box-shadow: 0px 1px 3px 1px rgba(0, 0, 0, 0.15);\n",
              "      filter: drop-shadow(0px 1px 2px rgba(0, 0, 0, 0.3));\n",
              "      fill: #FFFFFF;\n",
              "    }\n",
              "  </style>\n",
              "\n",
              "    <script>\n",
              "      const buttonEl =\n",
              "        document.querySelector('#df-90e29721-8d21-4251-8de5-cacd0f99c1f4 button.colab-df-convert');\n",
              "      buttonEl.style.display =\n",
              "        google.colab.kernel.accessAllowed ? 'block' : 'none';\n",
              "\n",
              "      async function convertToInteractive(key) {\n",
              "        const element = document.querySelector('#df-90e29721-8d21-4251-8de5-cacd0f99c1f4');\n",
              "        const dataTable =\n",
              "          await google.colab.kernel.invokeFunction('convertToInteractive',\n",
              "                                                    [key], {});\n",
              "        if (!dataTable) return;\n",
              "\n",
              "        const docLinkHtml = 'Like what you see? Visit the ' +\n",
              "          '<a target=\"_blank\" href=https://colab.research.google.com/notebooks/data_table.ipynb>data table notebook</a>'\n",
              "          + ' to learn more about interactive tables.';\n",
              "        element.innerHTML = '';\n",
              "        dataTable['output_type'] = 'display_data';\n",
              "        await google.colab.output.renderOutput(dataTable, element);\n",
              "        const docLink = document.createElement('div');\n",
              "        docLink.innerHTML = docLinkHtml;\n",
              "        element.appendChild(docLink);\n",
              "      }\n",
              "    </script>\n",
              "  </div>\n",
              "\n",
              "\n",
              "    <div id=\"df-d0799d37-3a5e-4cbf-aca9-5f64711e7556\">\n",
              "      <button class=\"colab-df-quickchart\" onclick=\"quickchart('df-d0799d37-3a5e-4cbf-aca9-5f64711e7556')\"\n",
              "                title=\"Suggest charts\"\n",
              "                style=\"display:none;\">\n",
              "\n",
              "<svg xmlns=\"http://www.w3.org/2000/svg\" height=\"24px\"viewBox=\"0 0 24 24\"\n",
              "     width=\"24px\">\n",
              "    <g>\n",
              "        <path d=\"M19 3H5c-1.1 0-2 .9-2 2v14c0 1.1.9 2 2 2h14c1.1 0 2-.9 2-2V5c0-1.1-.9-2-2-2zM9 17H7v-7h2v7zm4 0h-2V7h2v10zm4 0h-2v-4h2v4z\"/>\n",
              "    </g>\n",
              "</svg>\n",
              "      </button>\n",
              "\n",
              "<style>\n",
              "  .colab-df-quickchart {\n",
              "      --bg-color: #E8F0FE;\n",
              "      --fill-color: #1967D2;\n",
              "      --hover-bg-color: #E2EBFA;\n",
              "      --hover-fill-color: #174EA6;\n",
              "      --disabled-fill-color: #AAA;\n",
              "      --disabled-bg-color: #DDD;\n",
              "  }\n",
              "\n",
              "  [theme=dark] .colab-df-quickchart {\n",
              "      --bg-color: #3B4455;\n",
              "      --fill-color: #D2E3FC;\n",
              "      --hover-bg-color: #434B5C;\n",
              "      --hover-fill-color: #FFFFFF;\n",
              "      --disabled-bg-color: #3B4455;\n",
              "      --disabled-fill-color: #666;\n",
              "  }\n",
              "\n",
              "  .colab-df-quickchart {\n",
              "    background-color: var(--bg-color);\n",
              "    border: none;\n",
              "    border-radius: 50%;\n",
              "    cursor: pointer;\n",
              "    display: none;\n",
              "    fill: var(--fill-color);\n",
              "    height: 32px;\n",
              "    padding: 0;\n",
              "    width: 32px;\n",
              "  }\n",
              "\n",
              "  .colab-df-quickchart:hover {\n",
              "    background-color: var(--hover-bg-color);\n",
              "    box-shadow: 0 1px 2px rgba(60, 64, 67, 0.3), 0 1px 3px 1px rgba(60, 64, 67, 0.15);\n",
              "    fill: var(--button-hover-fill-color);\n",
              "  }\n",
              "\n",
              "  .colab-df-quickchart-complete:disabled,\n",
              "  .colab-df-quickchart-complete:disabled:hover {\n",
              "    background-color: var(--disabled-bg-color);\n",
              "    fill: var(--disabled-fill-color);\n",
              "    box-shadow: none;\n",
              "  }\n",
              "\n",
              "  .colab-df-spinner {\n",
              "    border: 2px solid var(--fill-color);\n",
              "    border-color: transparent;\n",
              "    border-bottom-color: var(--fill-color);\n",
              "    animation:\n",
              "      spin 1s steps(1) infinite;\n",
              "  }\n",
              "\n",
              "  @keyframes spin {\n",
              "    0% {\n",
              "      border-color: transparent;\n",
              "      border-bottom-color: var(--fill-color);\n",
              "      border-left-color: var(--fill-color);\n",
              "    }\n",
              "    20% {\n",
              "      border-color: transparent;\n",
              "      border-left-color: var(--fill-color);\n",
              "      border-top-color: var(--fill-color);\n",
              "    }\n",
              "    30% {\n",
              "      border-color: transparent;\n",
              "      border-left-color: var(--fill-color);\n",
              "      border-top-color: var(--fill-color);\n",
              "      border-right-color: var(--fill-color);\n",
              "    }\n",
              "    40% {\n",
              "      border-color: transparent;\n",
              "      border-right-color: var(--fill-color);\n",
              "      border-top-color: var(--fill-color);\n",
              "    }\n",
              "    60% {\n",
              "      border-color: transparent;\n",
              "      border-right-color: var(--fill-color);\n",
              "    }\n",
              "    80% {\n",
              "      border-color: transparent;\n",
              "      border-right-color: var(--fill-color);\n",
              "      border-bottom-color: var(--fill-color);\n",
              "    }\n",
              "    90% {\n",
              "      border-color: transparent;\n",
              "      border-bottom-color: var(--fill-color);\n",
              "    }\n",
              "  }\n",
              "</style>\n",
              "\n",
              "      <script>\n",
              "        async function quickchart(key) {\n",
              "          const quickchartButtonEl =\n",
              "            document.querySelector('#' + key + ' button');\n",
              "          quickchartButtonEl.disabled = true;  // To prevent multiple clicks.\n",
              "          quickchartButtonEl.classList.add('colab-df-spinner');\n",
              "          try {\n",
              "            const charts = await google.colab.kernel.invokeFunction(\n",
              "                'suggestCharts', [key], {});\n",
              "          } catch (error) {\n",
              "            console.error('Error during call to suggestCharts:', error);\n",
              "          }\n",
              "          quickchartButtonEl.classList.remove('colab-df-spinner');\n",
              "          quickchartButtonEl.classList.add('colab-df-quickchart-complete');\n",
              "        }\n",
              "        (() => {\n",
              "          let quickchartButtonEl =\n",
              "            document.querySelector('#df-d0799d37-3a5e-4cbf-aca9-5f64711e7556 button');\n",
              "          quickchartButtonEl.style.display =\n",
              "            google.colab.kernel.accessAllowed ? 'block' : 'none';\n",
              "        })();\n",
              "      </script>\n",
              "    </div>\n",
              "\n",
              "    </div>\n",
              "  </div>\n"
            ],
            "application/vnd.google.colaboratory.intrinsic+json": {
              "type": "dataframe",
              "variable_name": "train_df"
            }
          },
          "metadata": {},
          "execution_count": 61
        }
      ]
    },
    {
      "cell_type": "markdown",
      "source": [
        "### 1 - Encode y labels"
      ],
      "metadata": {
        "id": "5FP5ztInV--2"
      }
    },
    {
      "cell_type": "code",
      "source": [
        "# Define encoding\n",
        "class_map = {'No Injury':0, 'Minor':1, 'Serious':2, 'Fatal':3}\n",
        "target_names = ['No Injury', 'Minor', 'Serious', 'Fatal'] # store as list for later use\n",
        "\n",
        "# Encode\n",
        "train_df['ExtentOfInjuryCode'] = train_df['ExtentOfInjuryCode'].map(class_map)\n",
        "val_df['ExtentOfInjuryCode'] = val_df['ExtentOfInjuryCode'].map(class_map)\n",
        "test_df['ExtentOfInjuryCode'] = test_df['ExtentOfInjuryCode'].map(class_map)"
      ],
      "metadata": {
        "id": "5LiCvbhKVSnG"
      },
      "execution_count": 62,
      "outputs": []
    },
    {
      "cell_type": "code",
      "source": [
        "# Check data\n",
        "train_df.head()"
      ],
      "metadata": {
        "colab": {
          "base_uri": "https://localhost:8080/",
          "height": 287
        },
        "id": "0gNZAmNVGlR2",
        "outputId": "a9b9cf20-ef7c-4538-9406-a655eb3407c8"
      },
      "execution_count": 63,
      "outputs": [
        {
          "output_type": "execute_result",
          "data": {
            "text/plain": [
              "   IsHighwayRelated  ExtentOfInjuryCode  SpeedLimit  \\\n",
              "0                 1                   0    0.892906   \n",
              "1                 1                   1    1.225424   \n",
              "2                 1                   0   -0.437167   \n",
              "3                 0                   1   -2.432276   \n",
              "4                 1                   0    0.227869   \n",
              "\n",
              "   CollisionTypeDescription_BROADSIDE  CollisionTypeDescription_HEAD-ON  \\\n",
              "0                                   0                                 0   \n",
              "1                                   0                                 0   \n",
              "2                                   0                                 0   \n",
              "3                                   0                                 0   \n",
              "4                                   0                                 0   \n",
              "\n",
              "   CollisionTypeDescription_HIT OBJECT  CollisionTypeDescription_OTHER  \\\n",
              "0                                    0                               0   \n",
              "1                                    0                               0   \n",
              "2                                    0                               0   \n",
              "3                                    0                               0   \n",
              "4                                    1                               0   \n",
              "\n",
              "   CollisionTypeDescription_OVERTURNED  CollisionTypeDescription_REAR END  \\\n",
              "0                                    0                                  0   \n",
              "1                                    0                                  0   \n",
              "2                                    0                                  1   \n",
              "3                                    0                                  0   \n",
              "4                                    0                                  0   \n",
              "\n",
              "   CollisionTypeDescription_SIDE SWIPE  ...  \\\n",
              "0                                    1  ...   \n",
              "1                                    1  ...   \n",
              "2                                    0  ...   \n",
              "3                                    1  ...   \n",
              "4                                    0  ...   \n",
              "\n",
              "   SpecialInformation_CELL PHONE NOT IN USE / SCHOOL BUS RELATED  \\\n",
              "0                                                  0               \n",
              "1                                                  0               \n",
              "2                                                  0               \n",
              "3                                                  0               \n",
              "4                                                  0               \n",
              "\n",
              "   SpecialInformation_CELL PHONE NOT IN USE  \\\n",
              "0                                         1   \n",
              "1                                         1   \n",
              "2                                         1   \n",
              "3                                         1   \n",
              "4                                         1   \n",
              "\n",
              "   SpecialInformation_CELL PHONE USE UNKNOWN  \\\n",
              "0                                          0   \n",
              "1                                          1   \n",
              "2                                          1   \n",
              "3                                          0   \n",
              "4                                          0   \n",
              "\n",
              "   SpecialInformation_HAZARDOUS MATERIAL / CELL PHONE NOT IN USE  \\\n",
              "0                                                  0               \n",
              "1                                                  0               \n",
              "2                                                  0               \n",
              "3                                                  0               \n",
              "4                                                  0               \n",
              "\n",
              "   SpecialInformation_HAZARDOUS MATERIAL  \\\n",
              "0                                      0   \n",
              "1                                      0   \n",
              "2                                      0   \n",
              "3                                      0   \n",
              "4                                      0   \n",
              "\n",
              "   SpecialInformation_CELL PHONE NOT IN USE / CELL PHONE USE UNKNOWN  \\\n",
              "0                                                  0                   \n",
              "1                                                  0                   \n",
              "2                                                  0                   \n",
              "3                                                  0                   \n",
              "4                                                  0                   \n",
              "\n",
              "   SpecialInformation_CELL PHONE USE UNKNOWN / SCHOOL BUS RELATED  \\\n",
              "0                                                  0                \n",
              "1                                                  0                \n",
              "2                                                  0                \n",
              "3                                                  0                \n",
              "4                                                  0                \n",
              "\n",
              "   SpecialInformation_HAZARDOUS MATERIAL / CELL PHONE HANDSFREE IN USE  \\\n",
              "0                                                  0                     \n",
              "1                                                  0                     \n",
              "2                                                  0                     \n",
              "3                                                  0                     \n",
              "4                                                  0                     \n",
              "\n",
              "   SpecialInformation_HAZARDOUS MATERIAL / CELL PHONE USE UNKNOWN  \\\n",
              "0                                                  0                \n",
              "1                                                  0                \n",
              "2                                                  0                \n",
              "3                                                  0                \n",
              "4                                                  0                \n",
              "\n",
              "   SpecialInformation_SCHOOL BUS RELATED  \n",
              "0                                      0  \n",
              "1                                      0  \n",
              "2                                      0  \n",
              "3                                      0  \n",
              "4                                      0  \n",
              "\n",
              "[5 rows x 458 columns]"
            ],
            "text/html": [
              "\n",
              "  <div id=\"df-09965b39-ee46-4d77-9c12-66c63280112b\" class=\"colab-df-container\">\n",
              "    <div>\n",
              "<style scoped>\n",
              "    .dataframe tbody tr th:only-of-type {\n",
              "        vertical-align: middle;\n",
              "    }\n",
              "\n",
              "    .dataframe tbody tr th {\n",
              "        vertical-align: top;\n",
              "    }\n",
              "\n",
              "    .dataframe thead th {\n",
              "        text-align: right;\n",
              "    }\n",
              "</style>\n",
              "<table border=\"1\" class=\"dataframe\">\n",
              "  <thead>\n",
              "    <tr style=\"text-align: right;\">\n",
              "      <th></th>\n",
              "      <th>IsHighwayRelated</th>\n",
              "      <th>ExtentOfInjuryCode</th>\n",
              "      <th>SpeedLimit</th>\n",
              "      <th>CollisionTypeDescription_BROADSIDE</th>\n",
              "      <th>CollisionTypeDescription_HEAD-ON</th>\n",
              "      <th>CollisionTypeDescription_HIT OBJECT</th>\n",
              "      <th>CollisionTypeDescription_OTHER</th>\n",
              "      <th>CollisionTypeDescription_OVERTURNED</th>\n",
              "      <th>CollisionTypeDescription_REAR END</th>\n",
              "      <th>CollisionTypeDescription_SIDE SWIPE</th>\n",
              "      <th>...</th>\n",
              "      <th>SpecialInformation_CELL PHONE NOT IN USE / SCHOOL BUS RELATED</th>\n",
              "      <th>SpecialInformation_CELL PHONE NOT IN USE</th>\n",
              "      <th>SpecialInformation_CELL PHONE USE UNKNOWN</th>\n",
              "      <th>SpecialInformation_HAZARDOUS MATERIAL / CELL PHONE NOT IN USE</th>\n",
              "      <th>SpecialInformation_HAZARDOUS MATERIAL</th>\n",
              "      <th>SpecialInformation_CELL PHONE NOT IN USE / CELL PHONE USE UNKNOWN</th>\n",
              "      <th>SpecialInformation_CELL PHONE USE UNKNOWN / SCHOOL BUS RELATED</th>\n",
              "      <th>SpecialInformation_HAZARDOUS MATERIAL / CELL PHONE HANDSFREE IN USE</th>\n",
              "      <th>SpecialInformation_HAZARDOUS MATERIAL / CELL PHONE USE UNKNOWN</th>\n",
              "      <th>SpecialInformation_SCHOOL BUS RELATED</th>\n",
              "    </tr>\n",
              "  </thead>\n",
              "  <tbody>\n",
              "    <tr>\n",
              "      <th>0</th>\n",
              "      <td>1</td>\n",
              "      <td>0</td>\n",
              "      <td>0.892906</td>\n",
              "      <td>0</td>\n",
              "      <td>0</td>\n",
              "      <td>0</td>\n",
              "      <td>0</td>\n",
              "      <td>0</td>\n",
              "      <td>0</td>\n",
              "      <td>1</td>\n",
              "      <td>...</td>\n",
              "      <td>0</td>\n",
              "      <td>1</td>\n",
              "      <td>0</td>\n",
              "      <td>0</td>\n",
              "      <td>0</td>\n",
              "      <td>0</td>\n",
              "      <td>0</td>\n",
              "      <td>0</td>\n",
              "      <td>0</td>\n",
              "      <td>0</td>\n",
              "    </tr>\n",
              "    <tr>\n",
              "      <th>1</th>\n",
              "      <td>1</td>\n",
              "      <td>1</td>\n",
              "      <td>1.225424</td>\n",
              "      <td>0</td>\n",
              "      <td>0</td>\n",
              "      <td>0</td>\n",
              "      <td>0</td>\n",
              "      <td>0</td>\n",
              "      <td>0</td>\n",
              "      <td>1</td>\n",
              "      <td>...</td>\n",
              "      <td>0</td>\n",
              "      <td>1</td>\n",
              "      <td>1</td>\n",
              "      <td>0</td>\n",
              "      <td>0</td>\n",
              "      <td>0</td>\n",
              "      <td>0</td>\n",
              "      <td>0</td>\n",
              "      <td>0</td>\n",
              "      <td>0</td>\n",
              "    </tr>\n",
              "    <tr>\n",
              "      <th>2</th>\n",
              "      <td>1</td>\n",
              "      <td>0</td>\n",
              "      <td>-0.437167</td>\n",
              "      <td>0</td>\n",
              "      <td>0</td>\n",
              "      <td>0</td>\n",
              "      <td>0</td>\n",
              "      <td>0</td>\n",
              "      <td>1</td>\n",
              "      <td>0</td>\n",
              "      <td>...</td>\n",
              "      <td>0</td>\n",
              "      <td>1</td>\n",
              "      <td>1</td>\n",
              "      <td>0</td>\n",
              "      <td>0</td>\n",
              "      <td>0</td>\n",
              "      <td>0</td>\n",
              "      <td>0</td>\n",
              "      <td>0</td>\n",
              "      <td>0</td>\n",
              "    </tr>\n",
              "    <tr>\n",
              "      <th>3</th>\n",
              "      <td>0</td>\n",
              "      <td>1</td>\n",
              "      <td>-2.432276</td>\n",
              "      <td>0</td>\n",
              "      <td>0</td>\n",
              "      <td>0</td>\n",
              "      <td>0</td>\n",
              "      <td>0</td>\n",
              "      <td>0</td>\n",
              "      <td>1</td>\n",
              "      <td>...</td>\n",
              "      <td>0</td>\n",
              "      <td>1</td>\n",
              "      <td>0</td>\n",
              "      <td>0</td>\n",
              "      <td>0</td>\n",
              "      <td>0</td>\n",
              "      <td>0</td>\n",
              "      <td>0</td>\n",
              "      <td>0</td>\n",
              "      <td>0</td>\n",
              "    </tr>\n",
              "    <tr>\n",
              "      <th>4</th>\n",
              "      <td>1</td>\n",
              "      <td>0</td>\n",
              "      <td>0.227869</td>\n",
              "      <td>0</td>\n",
              "      <td>0</td>\n",
              "      <td>1</td>\n",
              "      <td>0</td>\n",
              "      <td>0</td>\n",
              "      <td>0</td>\n",
              "      <td>0</td>\n",
              "      <td>...</td>\n",
              "      <td>0</td>\n",
              "      <td>1</td>\n",
              "      <td>0</td>\n",
              "      <td>0</td>\n",
              "      <td>0</td>\n",
              "      <td>0</td>\n",
              "      <td>0</td>\n",
              "      <td>0</td>\n",
              "      <td>0</td>\n",
              "      <td>0</td>\n",
              "    </tr>\n",
              "  </tbody>\n",
              "</table>\n",
              "<p>5 rows × 458 columns</p>\n",
              "</div>\n",
              "    <div class=\"colab-df-buttons\">\n",
              "\n",
              "  <div class=\"colab-df-container\">\n",
              "    <button class=\"colab-df-convert\" onclick=\"convertToInteractive('df-09965b39-ee46-4d77-9c12-66c63280112b')\"\n",
              "            title=\"Convert this dataframe to an interactive table.\"\n",
              "            style=\"display:none;\">\n",
              "\n",
              "  <svg xmlns=\"http://www.w3.org/2000/svg\" height=\"24px\" viewBox=\"0 -960 960 960\">\n",
              "    <path d=\"M120-120v-720h720v720H120Zm60-500h600v-160H180v160Zm220 220h160v-160H400v160Zm0 220h160v-160H400v160ZM180-400h160v-160H180v160Zm440 0h160v-160H620v160ZM180-180h160v-160H180v160Zm440 0h160v-160H620v160Z\"/>\n",
              "  </svg>\n",
              "    </button>\n",
              "\n",
              "  <style>\n",
              "    .colab-df-container {\n",
              "      display:flex;\n",
              "      gap: 12px;\n",
              "    }\n",
              "\n",
              "    .colab-df-convert {\n",
              "      background-color: #E8F0FE;\n",
              "      border: none;\n",
              "      border-radius: 50%;\n",
              "      cursor: pointer;\n",
              "      display: none;\n",
              "      fill: #1967D2;\n",
              "      height: 32px;\n",
              "      padding: 0 0 0 0;\n",
              "      width: 32px;\n",
              "    }\n",
              "\n",
              "    .colab-df-convert:hover {\n",
              "      background-color: #E2EBFA;\n",
              "      box-shadow: 0px 1px 2px rgba(60, 64, 67, 0.3), 0px 1px 3px 1px rgba(60, 64, 67, 0.15);\n",
              "      fill: #174EA6;\n",
              "    }\n",
              "\n",
              "    .colab-df-buttons div {\n",
              "      margin-bottom: 4px;\n",
              "    }\n",
              "\n",
              "    [theme=dark] .colab-df-convert {\n",
              "      background-color: #3B4455;\n",
              "      fill: #D2E3FC;\n",
              "    }\n",
              "\n",
              "    [theme=dark] .colab-df-convert:hover {\n",
              "      background-color: #434B5C;\n",
              "      box-shadow: 0px 1px 3px 1px rgba(0, 0, 0, 0.15);\n",
              "      filter: drop-shadow(0px 1px 2px rgba(0, 0, 0, 0.3));\n",
              "      fill: #FFFFFF;\n",
              "    }\n",
              "  </style>\n",
              "\n",
              "    <script>\n",
              "      const buttonEl =\n",
              "        document.querySelector('#df-09965b39-ee46-4d77-9c12-66c63280112b button.colab-df-convert');\n",
              "      buttonEl.style.display =\n",
              "        google.colab.kernel.accessAllowed ? 'block' : 'none';\n",
              "\n",
              "      async function convertToInteractive(key) {\n",
              "        const element = document.querySelector('#df-09965b39-ee46-4d77-9c12-66c63280112b');\n",
              "        const dataTable =\n",
              "          await google.colab.kernel.invokeFunction('convertToInteractive',\n",
              "                                                    [key], {});\n",
              "        if (!dataTable) return;\n",
              "\n",
              "        const docLinkHtml = 'Like what you see? Visit the ' +\n",
              "          '<a target=\"_blank\" href=https://colab.research.google.com/notebooks/data_table.ipynb>data table notebook</a>'\n",
              "          + ' to learn more about interactive tables.';\n",
              "        element.innerHTML = '';\n",
              "        dataTable['output_type'] = 'display_data';\n",
              "        await google.colab.output.renderOutput(dataTable, element);\n",
              "        const docLink = document.createElement('div');\n",
              "        docLink.innerHTML = docLinkHtml;\n",
              "        element.appendChild(docLink);\n",
              "      }\n",
              "    </script>\n",
              "  </div>\n",
              "\n",
              "\n",
              "    <div id=\"df-25b4c691-b06c-4b51-b39b-0284066a1b80\">\n",
              "      <button class=\"colab-df-quickchart\" onclick=\"quickchart('df-25b4c691-b06c-4b51-b39b-0284066a1b80')\"\n",
              "                title=\"Suggest charts\"\n",
              "                style=\"display:none;\">\n",
              "\n",
              "<svg xmlns=\"http://www.w3.org/2000/svg\" height=\"24px\"viewBox=\"0 0 24 24\"\n",
              "     width=\"24px\">\n",
              "    <g>\n",
              "        <path d=\"M19 3H5c-1.1 0-2 .9-2 2v14c0 1.1.9 2 2 2h14c1.1 0 2-.9 2-2V5c0-1.1-.9-2-2-2zM9 17H7v-7h2v7zm4 0h-2V7h2v10zm4 0h-2v-4h2v4z\"/>\n",
              "    </g>\n",
              "</svg>\n",
              "      </button>\n",
              "\n",
              "<style>\n",
              "  .colab-df-quickchart {\n",
              "      --bg-color: #E8F0FE;\n",
              "      --fill-color: #1967D2;\n",
              "      --hover-bg-color: #E2EBFA;\n",
              "      --hover-fill-color: #174EA6;\n",
              "      --disabled-fill-color: #AAA;\n",
              "      --disabled-bg-color: #DDD;\n",
              "  }\n",
              "\n",
              "  [theme=dark] .colab-df-quickchart {\n",
              "      --bg-color: #3B4455;\n",
              "      --fill-color: #D2E3FC;\n",
              "      --hover-bg-color: #434B5C;\n",
              "      --hover-fill-color: #FFFFFF;\n",
              "      --disabled-bg-color: #3B4455;\n",
              "      --disabled-fill-color: #666;\n",
              "  }\n",
              "\n",
              "  .colab-df-quickchart {\n",
              "    background-color: var(--bg-color);\n",
              "    border: none;\n",
              "    border-radius: 50%;\n",
              "    cursor: pointer;\n",
              "    display: none;\n",
              "    fill: var(--fill-color);\n",
              "    height: 32px;\n",
              "    padding: 0;\n",
              "    width: 32px;\n",
              "  }\n",
              "\n",
              "  .colab-df-quickchart:hover {\n",
              "    background-color: var(--hover-bg-color);\n",
              "    box-shadow: 0 1px 2px rgba(60, 64, 67, 0.3), 0 1px 3px 1px rgba(60, 64, 67, 0.15);\n",
              "    fill: var(--button-hover-fill-color);\n",
              "  }\n",
              "\n",
              "  .colab-df-quickchart-complete:disabled,\n",
              "  .colab-df-quickchart-complete:disabled:hover {\n",
              "    background-color: var(--disabled-bg-color);\n",
              "    fill: var(--disabled-fill-color);\n",
              "    box-shadow: none;\n",
              "  }\n",
              "\n",
              "  .colab-df-spinner {\n",
              "    border: 2px solid var(--fill-color);\n",
              "    border-color: transparent;\n",
              "    border-bottom-color: var(--fill-color);\n",
              "    animation:\n",
              "      spin 1s steps(1) infinite;\n",
              "  }\n",
              "\n",
              "  @keyframes spin {\n",
              "    0% {\n",
              "      border-color: transparent;\n",
              "      border-bottom-color: var(--fill-color);\n",
              "      border-left-color: var(--fill-color);\n",
              "    }\n",
              "    20% {\n",
              "      border-color: transparent;\n",
              "      border-left-color: var(--fill-color);\n",
              "      border-top-color: var(--fill-color);\n",
              "    }\n",
              "    30% {\n",
              "      border-color: transparent;\n",
              "      border-left-color: var(--fill-color);\n",
              "      border-top-color: var(--fill-color);\n",
              "      border-right-color: var(--fill-color);\n",
              "    }\n",
              "    40% {\n",
              "      border-color: transparent;\n",
              "      border-right-color: var(--fill-color);\n",
              "      border-top-color: var(--fill-color);\n",
              "    }\n",
              "    60% {\n",
              "      border-color: transparent;\n",
              "      border-right-color: var(--fill-color);\n",
              "    }\n",
              "    80% {\n",
              "      border-color: transparent;\n",
              "      border-right-color: var(--fill-color);\n",
              "      border-bottom-color: var(--fill-color);\n",
              "    }\n",
              "    90% {\n",
              "      border-color: transparent;\n",
              "      border-bottom-color: var(--fill-color);\n",
              "    }\n",
              "  }\n",
              "</style>\n",
              "\n",
              "      <script>\n",
              "        async function quickchart(key) {\n",
              "          const quickchartButtonEl =\n",
              "            document.querySelector('#' + key + ' button');\n",
              "          quickchartButtonEl.disabled = true;  // To prevent multiple clicks.\n",
              "          quickchartButtonEl.classList.add('colab-df-spinner');\n",
              "          try {\n",
              "            const charts = await google.colab.kernel.invokeFunction(\n",
              "                'suggestCharts', [key], {});\n",
              "          } catch (error) {\n",
              "            console.error('Error during call to suggestCharts:', error);\n",
              "          }\n",
              "          quickchartButtonEl.classList.remove('colab-df-spinner');\n",
              "          quickchartButtonEl.classList.add('colab-df-quickchart-complete');\n",
              "        }\n",
              "        (() => {\n",
              "          let quickchartButtonEl =\n",
              "            document.querySelector('#df-25b4c691-b06c-4b51-b39b-0284066a1b80 button');\n",
              "          quickchartButtonEl.style.display =\n",
              "            google.colab.kernel.accessAllowed ? 'block' : 'none';\n",
              "        })();\n",
              "      </script>\n",
              "    </div>\n",
              "\n",
              "    </div>\n",
              "  </div>\n"
            ],
            "application/vnd.google.colaboratory.intrinsic+json": {
              "type": "dataframe",
              "variable_name": "train_df"
            }
          },
          "metadata": {},
          "execution_count": 63
        }
      ]
    },
    {
      "cell_type": "markdown",
      "source": [
        "### 2 - Split data into X, Y sets"
      ],
      "metadata": {
        "id": "iZOUBfTyG10h"
      }
    },
    {
      "cell_type": "code",
      "source": [
        "# Check shape of data before splitting\n",
        "print(train_df.shape, val_df.shape, test_df.shape)"
      ],
      "metadata": {
        "colab": {
          "base_uri": "https://localhost:8080/"
        },
        "id": "sFmUPBomJ5A3",
        "outputId": "e833ffad-9803-42a4-e0c1-8554b60c6bd7"
      },
      "execution_count": 64,
      "outputs": [
        {
          "output_type": "stream",
          "name": "stdout",
          "text": [
            "(218338, 458) (54585, 458) (103669, 458)\n"
          ]
        }
      ]
    },
    {
      "cell_type": "code",
      "source": [
        "# Train\n",
        "X_train = train_df.copy().drop(columns=['ExtentOfInjuryCode'])\n",
        "y_train = train_df['ExtentOfInjuryCode'].copy()\n",
        "\n",
        "# Validation\n",
        "X_val = val_df.copy().drop(columns=['ExtentOfInjuryCode'])\n",
        "y_val = val_df['ExtentOfInjuryCode'].copy()\n",
        "\n",
        "# Test\n",
        "X_test = test_df.copy().drop(columns=['ExtentOfInjuryCode'])\n",
        "y_test = test_df['ExtentOfInjuryCode'].copy()"
      ],
      "metadata": {
        "id": "me8Q3jsoG94I"
      },
      "execution_count": 65,
      "outputs": []
    },
    {
      "cell_type": "code",
      "source": [
        "# Check shape of data after splitting\n",
        "print(X_train.shape, X_val.shape, X_test.shape)\n",
        "print(y_train.shape, y_val.shape, y_test.shape)"
      ],
      "metadata": {
        "colab": {
          "base_uri": "https://localhost:8080/"
        },
        "id": "db1_u7rFJ8Xd",
        "outputId": "4aeec23c-408c-49f2-ff5d-f3d45c55f303"
      },
      "execution_count": 66,
      "outputs": [
        {
          "output_type": "stream",
          "name": "stdout",
          "text": [
            "(218338, 457) (54585, 457) (103669, 457)\n",
            "(218338,) (54585,) (103669,)\n"
          ]
        }
      ]
    },
    {
      "cell_type": "markdown",
      "source": [
        "###3 - Define Model (Neural Network)"
      ],
      "metadata": {
        "id": "2ZbvLot_-jUR"
      }
    },
    {
      "cell_type": "code",
      "source": [
        "print(\"Train label values:\", np.unique(y_train))\n"
      ],
      "metadata": {
        "colab": {
          "base_uri": "https://localhost:8080/"
        },
        "id": "_6p_Bg0KeLyT",
        "outputId": "f27538e5-199d-4432-9f53-88416ba64ef4"
      },
      "execution_count": 67,
      "outputs": [
        {
          "output_type": "stream",
          "name": "stdout",
          "text": [
            "Train label values: [0 1 2 3]\n"
          ]
        }
      ]
    },
    {
      "cell_type": "code",
      "source": [
        "def build_model(n_classes,\n",
        "                n_features,\n",
        "                hidden_layer_sizes=[],\n",
        "                activation='relu',\n",
        "                optimizer='SGD',\n",
        "                learning_rate=0.01):\n",
        "    \"\"\"Build a multiclass logistic regression if 0 hidden layers; or a neural network model if > 0 using Keras.\n",
        "\n",
        "    Args:\n",
        "    n_features\n",
        "    n_classes: Number of output classes in the dataset.\n",
        "    hidden_layer_sizes: A list with the number of units in each hidden layer.\n",
        "    activation: The activation function to use for the hidden layers. Default to ReLU\n",
        "    optimizer: The optimizer to use (SGD, Adam). Default to SGD\n",
        "    learning_rate: The desired learning rate for the optimizer. Default to 0.01\n",
        "\n",
        "    Returns:\n",
        "    model: A tf.keras model (graph).\n",
        "    \"\"\"\n",
        "    tf.keras.backend.clear_session()\n",
        "    np.random.seed(0)\n",
        "    tf.random.set_seed(0)\n",
        "\n",
        "    hidden_layer_sizes = list(hidden_layer_sizes)\n",
        "\n",
        "    # keras.Sequential for neural networks (multiple layers)\n",
        "    model = tf.keras.Sequential()\n",
        "\n",
        "    # If 0 hidden layers\n",
        "    if hidden_layer_sizes == []:\n",
        "      # Use multiclass logisitic regression:\n",
        "      model.add(tf.keras.Input(shape=(n_features,), name='Input'))        # Create input layer\n",
        "      # Create output layer.\n",
        "      model.add(tf.keras.layers.Dense(                                    # Create output layer\n",
        "      units=n_classes,                                                    # output dim (in this case: 10)\n",
        "      input_shape=(n_features,),                                          # input dim\n",
        "      use_bias=True,                                                      # use a bias (intercept) param\n",
        "      activation='softmax',                                               # softmax for multiclass classification!\n",
        "      kernel_initializer=tf.keras.initializers.RandomNormal(stddev=0.01, seed=0), # initialize weights to random normal to encourage model to learn about distinct features\n",
        "      bias_initializer=tf.keras.initializers.Zeros()                      # initialize bias to zero (a neutral start for all features)\n",
        "      ))\n",
        "\n",
        "    # Else\n",
        "    else:\n",
        "      # Use neural network\n",
        "\n",
        "      # First hidden layer (define input shape from data)\n",
        "      model.add(tf.keras.layers.Dense(\n",
        "            units=hidden_layer_sizes[0],\n",
        "            input_shape=(n_features,),\n",
        "            activation=activation\n",
        "      ))\n",
        "\n",
        "      # Remaining hidden layers\n",
        "      for units in hidden_layer_sizes[1:]:\n",
        "        # Create hidden layers (input shape is inferred at each layer step during .fit())\n",
        "        model.add(tf.keras.layers.Dense(units=units, activation=activation))\n",
        "      # Create output layer.\n",
        "      model.add(tf.keras.layers.Dense(\n",
        "          units=n_classes,                                                            # output dim (in this case: 4)\n",
        "          use_bias=True,                                                              # use a bias (intercept) param\n",
        "          activation='softmax',                                                       # softmax for multiclass classification!\n",
        "          kernel_initializer=tf.keras.initializers.RandomNormal(stddev=0.01, seed=0), # initialize weights to random normal to encourage model to learn about distinct features\n",
        "          bias_initializer=tf.keras.initializers.Zeros()                              # initialize bias to zero (a neutral start for all features)\n",
        "      ))\n",
        "\n",
        "\n",
        "    # We need to choose an optimizer. We'll use SGD, which is actually mini-batch GD\n",
        "    if optimizer.lower() == 'sgd':\n",
        "      optimizer = tf.keras.optimizers.SGD(learning_rate=learning_rate)\n",
        "    else:\n",
        "      optimizer = tf.keras.optimizers.Adam(learning_rate=learning_rate)\n",
        "\n",
        "    # Finally, compile the model. Select the accuracy metric (!!!). This finalizes the graph for training.\n",
        "    model.compile(\n",
        "          loss=tf.keras.losses.SparseCategoricalCrossentropy(),                   # Due to sparse encoding of labels\n",
        "          #loss = tf.keras.losses.CategoricalCrossentropy(),                      # If using dense representation (one-hot encoding)\n",
        "          optimizer=optimizer,\n",
        "          metrics=[tf.keras.metrics.SparseCategoricalAccuracy(name='accuracy')]  # Due to sparse encoding of labels\n",
        "          #tf.keras.metrics.CategoricalAccuracy() # If one-hot (dense) encoded labels\n",
        "      )\n",
        "\n",
        "\n",
        "    return model"
      ],
      "metadata": {
        "id": "sihQLhm8-jkR"
      },
      "execution_count": 68,
      "outputs": []
    },
    {
      "cell_type": "markdown",
      "source": [
        "###4 - Train & Evaluate Model"
      ],
      "metadata": {
        "id": "9UL_2sC3RYJH"
      }
    },
    {
      "cell_type": "code",
      "source": [
        "# Calculate class weights (due to inbalanced class proporations)\n",
        "class_weights = class_weight.compute_class_weight(\n",
        "    class_weight='balanced',\n",
        "    classes=np.unique(y_train),\n",
        "    y=y_train\n",
        ")\n",
        "\n",
        "class_weights = dict(enumerate(class_weights))"
      ],
      "metadata": {
        "id": "xCouVLt6rBnz"
      },
      "execution_count": 69,
      "outputs": []
    },
    {
      "cell_type": "code",
      "source": [
        "def train_and_evaluate(X_train,\n",
        "                       y_train,\n",
        "                       X_val,\n",
        "                       y_val,\n",
        "                       hidden_layer_sizes=[],\n",
        "                       activation='relu',\n",
        "                       optimizer='SGD',\n",
        "                       learning_rate=0.01,\n",
        "                       num_epochs=10):\n",
        "    # Set random seeds\n",
        "    np.random.seed(0)\n",
        "    tf.random.set_seed(0)\n",
        "\n",
        "    # Build the model.\n",
        "    model = build_model(n_classes=4,\n",
        "                      n_features=X_train.shape[1],\n",
        "                      hidden_layer_sizes=hidden_layer_sizes,\n",
        "                      activation=activation,\n",
        "                      optimizer=optimizer,\n",
        "                      learning_rate=learning_rate)\n",
        "\n",
        "    # Train the model.\n",
        "    history = model.fit(\n",
        "        x=X_train,\n",
        "        y=y_train,\n",
        "        validation_data=(X_val, y_val),\n",
        "        epochs=num_epochs,\n",
        "        batch_size=64,\n",
        "        class_weight=class_weights,\n",
        "        verbose=0)\n",
        "\n",
        "    # Retrieve the training metrics (after each train epoch) and the final validation accuracy.\n",
        "    plt.plot(history.history['accuracy'], label='train_accuracy')\n",
        "    plt.plot(history.history['val_accuracy'], label='validation accuracy')\n",
        "    plt.xticks(range(num_epochs))\n",
        "    plt.xlabel('Train epochs')\n",
        "    plt.legend()\n",
        "    plt.show()\n",
        "\n",
        "    print('Training accuracy: %1.4f' %history.history['accuracy'][-1])\n",
        "    print('Validation accuracy: %1.4f' %history.history['val_accuracy'][-1])\n",
        "\n",
        "    return model"
      ],
      "metadata": {
        "id": "L75Xj4rzSLxe"
      },
      "execution_count": 70,
      "outputs": []
    },
    {
      "cell_type": "markdown",
      "source": [
        "Try for best activation and optimizer combination:"
      ],
      "metadata": {
        "id": "1RQ0x3M0gfd5"
      }
    },
    {
      "cell_type": "markdown",
      "source": [
        "Model ID | Data | Hidden sizes | Activation| Optimizer | Learning rate | #Parameters | Training accuracy| Validation accuracy\n",
        "-|-|-|-|-|-|-|-|-\n",
        "1 | digits | [] | relu | SGD |0.01| 1832 | 0.6068 | 0.6035\n",
        "2 | digits | [] | tanh | SGD |0.01| 1832 | 0.6068 | 0.6035\n",
        "3 | digits | [] | relu | Adam |0.01| 1832 | 0.6023 | 0.6175\n",
        "4 | digits | [] | tanh | Adam |0.01| 1832 | 0.6023 | 0.6175\n"
      ],
      "metadata": {
        "id": "QGNorIONfamB"
      }
    },
    {
      "cell_type": "code",
      "source": [
        "# run the function\n",
        "print('Results for Model 1 (ReLU, SGD):')\n",
        "model1 = train_and_evaluate(X_train, y_train, X_val, y_val, activation='relu', optimizer='SGD')\n",
        "\n",
        "print('Results for Model 2 (Tanh, SGD):')\n",
        "model2 = train_and_evaluate(X_train, y_train, X_val, y_val, activation='tanh', optimizer='SGD')\n",
        "\n",
        "print('Results for Model 3 (ReLU, Adam):')\n",
        "model3 = train_and_evaluate(X_train, y_train, X_val, y_val, activation='relu', optimizer='Adam')\n",
        "\n",
        "print('Results for Model 4 (Tanh, Adam):')\n",
        "model4 = train_and_evaluate(X_train, y_train, X_val, y_val, activation='tanh', optimizer='Adam')"
      ],
      "metadata": {
        "colab": {
          "base_uri": "https://localhost:8080/",
          "height": 1000
        },
        "id": "OJFCx7cyTDLd",
        "outputId": "6661bfce-e964-428d-bfe0-0b72b0d7e88f"
      },
      "execution_count": 71,
      "outputs": [
        {
          "output_type": "stream",
          "name": "stdout",
          "text": [
            "Results for Model 1 (ReLU, SGD):\n"
          ]
        },
        {
          "output_type": "display_data",
          "data": {
            "text/plain": [
              "<Figure size 640x480 with 1 Axes>"
            ],
            "image/png": "[encoded data removed]"
          },
          "metadata": {}
        },
        {
          "output_type": "stream",
          "name": "stdout",
          "text": [
            "Training accuracy: 0.6068\n",
            "Validation accuracy: 0.6035\n",
            "Results for Model 2 (Tanh, SGD):\n"
          ]
        },
        {
          "output_type": "display_data",
          "data": {
            "text/plain": [
              "<Figure size 640x480 with 1 Axes>"
            ],
            "image/png": "[encoded data removed]"
          },
          "metadata": {}
        },
        {
          "output_type": "stream",
          "name": "stdout",
          "text": [
            "Training accuracy: 0.6068\n",
            "Validation accuracy: 0.6035\n",
            "Results for Model 3 (ReLU, Adam):\n"
          ]
        },
        {
          "output_type": "display_data",
          "data": {
            "text/plain": [
              "<Figure size 640x480 with 1 Axes>"
            ],
            "image/png": "[encoded data removed]"
          },
          "metadata": {}
        },
        {
          "output_type": "stream",
          "name": "stdout",
          "text": [
            "Training accuracy: 0.6023\n",
            "Validation accuracy: 0.6175\n",
            "Results for Model 4 (Tanh, Adam):\n"
          ]
        },
        {
          "output_type": "display_data",
          "data": {
            "text/plain": [
              "<Figure size 640x480 with 1 Axes>"
            ],
            "image/png": "[encoded data removed]"
          },
          "metadata": {}
        },
        {
          "output_type": "stream",
          "name": "stdout",
          "text": [
            "Training accuracy: 0.6023\n",
            "Validation accuracy: 0.6175\n"
          ]
        }
      ]
    },
    {
      "cell_type": "code",
      "source": [
        "model2.summary()"
      ],
      "metadata": {
        "colab": {
          "base_uri": "https://localhost:8080/",
          "height": 177
        },
        "id": "XDVs60IjkP8C",
        "outputId": "fe84cb3f-fc99-403f-ff66-ba7827e5df2a"
      },
      "execution_count": 75,
      "outputs": [
        {
          "output_type": "display_data",
          "data": {
            "text/plain": [
              "\u001b[1mModel: \"sequential\"\u001b[0m\n"
            ],
            "text/html": [
              "<pre style=\"white-space:pre;overflow-x:auto;line-height:normal;font-family:Menlo,'DejaVu Sans Mono',consolas,'Courier New',monospace\"><span style=\"font-weight: bold\">Model: \"sequential\"</span>\n",
              "</pre>\n"
            ]
          },
          "metadata": {}
        },
        {
          "output_type": "display_data",
          "data": {
            "text/plain": [
              "┏━━━━━━━━━━━━━━━━━━━━━━━━━━━━━━━━━┳━━━━━━━━━━━━━━━━━━━━━━━━┳━━━━━━━━━━━━━━━┓\n",
              "┃\u001b[1m \u001b[0m\u001b[1mLayer (type)                   \u001b[0m\u001b[1m \u001b[0m┃\u001b[1m \u001b[0m\u001b[1mOutput Shape          \u001b[0m\u001b[1m \u001b[0m┃\u001b[1m \u001b[0m\u001b[1m      Param #\u001b[0m\u001b[1m \u001b[0m┃\n",
              "┡━━━━━━━━━━━━━━━━━━━━━━━━━━━━━━━━━╇━━━━━━━━━━━━━━━━━━━━━━━━╇━━━━━━━━━━━━━━━┩\n",
              "│ dense (\u001b[38;5;33mDense\u001b[0m)                   │ (\u001b[38;5;45mNone\u001b[0m, \u001b[38;5;34m4\u001b[0m)              │         \u001b[38;5;34m1,832\u001b[0m │\n",
              "└─────────────────────────────────┴────────────────────────┴───────────────┘\n"
            ],
            "text/html": [
              "<pre style=\"white-space:pre;overflow-x:auto;line-height:normal;font-family:Menlo,'DejaVu Sans Mono',consolas,'Courier New',monospace\">┏━━━━━━━━━━━━━━━━━━━━━━━━━━━━━━━━━┳━━━━━━━━━━━━━━━━━━━━━━━━┳━━━━━━━━━━━━━━━┓\n",
              "┃<span style=\"font-weight: bold\"> Layer (type)                    </span>┃<span style=\"font-weight: bold\"> Output Shape           </span>┃<span style=\"font-weight: bold\">       Param # </span>┃\n",
              "┡━━━━━━━━━━━━━━━━━━━━━━━━━━━━━━━━━╇━━━━━━━━━━━━━━━━━━━━━━━━╇━━━━━━━━━━━━━━━┩\n",
              "│ dense (<span style=\"color: #0087ff; text-decoration-color: #0087ff\">Dense</span>)                   │ (<span style=\"color: #00d7ff; text-decoration-color: #00d7ff\">None</span>, <span style=\"color: #00af00; text-decoration-color: #00af00\">4</span>)              │         <span style=\"color: #00af00; text-decoration-color: #00af00\">1,832</span> │\n",
              "└─────────────────────────────────┴────────────────────────┴───────────────┘\n",
              "</pre>\n"
            ]
          },
          "metadata": {}
        },
        {
          "output_type": "display_data",
          "data": {
            "text/plain": [
              "\u001b[1m Total params: \u001b[0m\u001b[38;5;34m1,834\u001b[0m (7.17 KB)\n"
            ],
            "text/html": [
              "<pre style=\"white-space:pre;overflow-x:auto;line-height:normal;font-family:Menlo,'DejaVu Sans Mono',consolas,'Courier New',monospace\"><span style=\"font-weight: bold\"> Total params: </span><span style=\"color: #00af00; text-decoration-color: #00af00\">1,834</span> (7.17 KB)\n",
              "</pre>\n"
            ]
          },
          "metadata": {}
        },
        {
          "output_type": "display_data",
          "data": {
            "text/plain": [
              "\u001b[1m Trainable params: \u001b[0m\u001b[38;5;34m1,832\u001b[0m (7.16 KB)\n"
            ],
            "text/html": [
              "<pre style=\"white-space:pre;overflow-x:auto;line-height:normal;font-family:Menlo,'DejaVu Sans Mono',consolas,'Courier New',monospace\"><span style=\"font-weight: bold\"> Trainable params: </span><span style=\"color: #00af00; text-decoration-color: #00af00\">1,832</span> (7.16 KB)\n",
              "</pre>\n"
            ]
          },
          "metadata": {}
        },
        {
          "output_type": "display_data",
          "data": {
            "text/plain": [
              "\u001b[1m Non-trainable params: \u001b[0m\u001b[38;5;34m0\u001b[0m (0.00 B)\n"
            ],
            "text/html": [
              "<pre style=\"white-space:pre;overflow-x:auto;line-height:normal;font-family:Menlo,'DejaVu Sans Mono',consolas,'Courier New',monospace\"><span style=\"font-weight: bold\"> Non-trainable params: </span><span style=\"color: #00af00; text-decoration-color: #00af00\">0</span> (0.00 B)\n",
              "</pre>\n"
            ]
          },
          "metadata": {}
        },
        {
          "output_type": "display_data",
          "data": {
            "text/plain": [
              "\u001b[1m Optimizer params: \u001b[0m\u001b[38;5;34m2\u001b[0m (12.00 B)\n"
            ],
            "text/html": [
              "<pre style=\"white-space:pre;overflow-x:auto;line-height:normal;font-family:Menlo,'DejaVu Sans Mono',consolas,'Courier New',monospace\"><span style=\"font-weight: bold\"> Optimizer params: </span><span style=\"color: #00af00; text-decoration-color: #00af00\">2</span> (12.00 B)\n",
              "</pre>\n"
            ]
          },
          "metadata": {}
        }
      ]
    },
    {
      "cell_type": "markdown",
      "source": [
        "We will use ReLU and SGD for our configuration since it is the most computationally simple without compromising on accuracy and without underfitting as seen with Adam."
      ],
      "metadata": {
        "id": "iJm2LXGNkjGY"
      }
    },
    {
      "cell_type": "markdown",
      "source": [
        "Try for best hidden layer size:"
      ],
      "metadata": {
        "id": "HN8Nw0hRgkyB"
      }
    },
    {
      "cell_type": "markdown",
      "source": [
        "Model ID | Data | Hidden sizes | Activation| Optimizer | Learning rate | #Parameters | Training accuracy| Validation accuracy\n",
        "-|-|-|-|-|-|-|-|-\n",
        "5 | digits | [128] | relu | SGD |0.01| 59,140 | 0.6069| 0.5997\n",
        "6 | digits | [256, 128] | relu | SGD |0.01| 150,660 | 0.6079 | 0.5735"
      ],
      "metadata": {
        "id": "qapKMNabguJj"
      }
    },
    {
      "cell_type": "markdown",
      "source": [],
      "metadata": {
        "id": "uMubOMueuVSd"
      }
    },
    {
      "cell_type": "code",
      "source": [
        "print('Results for Model 5 ([128]):')\n",
        "model5 = train_and_evaluate(X_train, y_train, X_val, y_val, hidden_layer_sizes=[128], activation='relu', optimizer='SGD')\n",
        "\n",
        "print('Results for Model 6 ([256,128]):')\n",
        "model6 = train_and_evaluate(X_train, y_train, X_val, y_val, hidden_layer_sizes=[256,128], activation='relu', optimizer='SGD')"
      ],
      "metadata": {
        "colab": {
          "base_uri": "https://localhost:8080/",
          "height": 986
        },
        "id": "UhSef1QmguZ8",
        "outputId": "376e1677-5120-40e7-8bde-fc0c5b4a0a86"
      },
      "execution_count": 73,
      "outputs": [
        {
          "output_type": "stream",
          "name": "stdout",
          "text": [
            "Results for Model 5 ([128]):\n"
          ]
        },
        {
          "output_type": "display_data",
          "data": {
            "text/plain": [
              "<Figure size 640x480 with 1 Axes>"
            ],
            "image/png": "[encoded data removed]"
          },
          "metadata": {}
        },
        {
          "output_type": "stream",
          "name": "stdout",
          "text": [
            "Training accuracy: 0.6069\n",
            "Validation accuracy: 0.5997\n",
            "Results for Model 6 ([256,128]):\n"
          ]
        },
        {
          "output_type": "display_data",
          "data": {
            "text/plain": [
              "<Figure size 640x480 with 1 Axes>"
            ],
            "image/png": "[encoded data removed]"
          },
          "metadata": {}
        },
        {
          "output_type": "stream",
          "name": "stdout",
          "text": [
            "Training accuracy: 0.6079\n",
            "Validation accuracy: 0.5735\n"
          ]
        }
      ]
    },
    {
      "cell_type": "code",
      "source": [
        "model6.summary()"
      ],
      "metadata": {
        "colab": {
          "base_uri": "https://localhost:8080/",
          "height": 241
        },
        "id": "QGXypZXyoRC4",
        "outputId": "9ab49169-fdbc-4bc4-b937-e2f7dcb6a3e6"
      },
      "execution_count": 76,
      "outputs": [
        {
          "output_type": "display_data",
          "data": {
            "text/plain": [
              "\u001b[1mModel: \"sequential\"\u001b[0m\n"
            ],
            "text/html": [
              "<pre style=\"white-space:pre;overflow-x:auto;line-height:normal;font-family:Menlo,'DejaVu Sans Mono',consolas,'Courier New',monospace\"><span style=\"font-weight: bold\">Model: \"sequential\"</span>\n",
              "</pre>\n"
            ]
          },
          "metadata": {}
        },
        {
          "output_type": "display_data",
          "data": {
            "text/plain": [
              "┏━━━━━━━━━━━━━━━━━━━━━━━━━━━━━━━━━┳━━━━━━━━━━━━━━━━━━━━━━━━┳━━━━━━━━━━━━━━━┓\n",
              "┃\u001b[1m \u001b[0m\u001b[1mLayer (type)                   \u001b[0m\u001b[1m \u001b[0m┃\u001b[1m \u001b[0m\u001b[1mOutput Shape          \u001b[0m\u001b[1m \u001b[0m┃\u001b[1m \u001b[0m\u001b[1m      Param #\u001b[0m\u001b[1m \u001b[0m┃\n",
              "┡━━━━━━━━━━━━━━━━━━━━━━━━━━━━━━━━━╇━━━━━━━━━━━━━━━━━━━━━━━━╇━━━━━━━━━━━━━━━┩\n",
              "│ dense (\u001b[38;5;33mDense\u001b[0m)                   │ (\u001b[38;5;45mNone\u001b[0m, \u001b[38;5;34m256\u001b[0m)            │       \u001b[38;5;34m117,248\u001b[0m │\n",
              "├─────────────────────────────────┼────────────────────────┼───────────────┤\n",
              "│ dense_1 (\u001b[38;5;33mDense\u001b[0m)                 │ (\u001b[38;5;45mNone\u001b[0m, \u001b[38;5;34m128\u001b[0m)            │        \u001b[38;5;34m32,896\u001b[0m │\n",
              "├─────────────────────────────────┼────────────────────────┼───────────────┤\n",
              "│ dense_2 (\u001b[38;5;33mDense\u001b[0m)                 │ (\u001b[38;5;45mNone\u001b[0m, \u001b[38;5;34m4\u001b[0m)              │           \u001b[38;5;34m516\u001b[0m │\n",
              "└─────────────────────────────────┴────────────────────────┴───────────────┘\n"
            ],
            "text/html": [
              "<pre style=\"white-space:pre;overflow-x:auto;line-height:normal;font-family:Menlo,'DejaVu Sans Mono',consolas,'Courier New',monospace\">┏━━━━━━━━━━━━━━━━━━━━━━━━━━━━━━━━━┳━━━━━━━━━━━━━━━━━━━━━━━━┳━━━━━━━━━━━━━━━┓\n",
              "┃<span style=\"font-weight: bold\"> Layer (type)                    </span>┃<span style=\"font-weight: bold\"> Output Shape           </span>┃<span style=\"font-weight: bold\">       Param # </span>┃\n",
              "┡━━━━━━━━━━━━━━━━━━━━━━━━━━━━━━━━━╇━━━━━━━━━━━━━━━━━━━━━━━━╇━━━━━━━━━━━━━━━┩\n",
              "│ dense (<span style=\"color: #0087ff; text-decoration-color: #0087ff\">Dense</span>)                   │ (<span style=\"color: #00d7ff; text-decoration-color: #00d7ff\">None</span>, <span style=\"color: #00af00; text-decoration-color: #00af00\">256</span>)            │       <span style=\"color: #00af00; text-decoration-color: #00af00\">117,248</span> │\n",
              "├─────────────────────────────────┼────────────────────────┼───────────────┤\n",
              "│ dense_1 (<span style=\"color: #0087ff; text-decoration-color: #0087ff\">Dense</span>)                 │ (<span style=\"color: #00d7ff; text-decoration-color: #00d7ff\">None</span>, <span style=\"color: #00af00; text-decoration-color: #00af00\">128</span>)            │        <span style=\"color: #00af00; text-decoration-color: #00af00\">32,896</span> │\n",
              "├─────────────────────────────────┼────────────────────────┼───────────────┤\n",
              "│ dense_2 (<span style=\"color: #0087ff; text-decoration-color: #0087ff\">Dense</span>)                 │ (<span style=\"color: #00d7ff; text-decoration-color: #00d7ff\">None</span>, <span style=\"color: #00af00; text-decoration-color: #00af00\">4</span>)              │           <span style=\"color: #00af00; text-decoration-color: #00af00\">516</span> │\n",
              "└─────────────────────────────────┴────────────────────────┴───────────────┘\n",
              "</pre>\n"
            ]
          },
          "metadata": {}
        },
        {
          "output_type": "display_data",
          "data": {
            "text/plain": [
              "\u001b[1m Total params: \u001b[0m\u001b[38;5;34m150,662\u001b[0m (588.53 KB)\n"
            ],
            "text/html": [
              "<pre style=\"white-space:pre;overflow-x:auto;line-height:normal;font-family:Menlo,'DejaVu Sans Mono',consolas,'Courier New',monospace\"><span style=\"font-weight: bold\"> Total params: </span><span style=\"color: #00af00; text-decoration-color: #00af00\">150,662</span> (588.53 KB)\n",
              "</pre>\n"
            ]
          },
          "metadata": {}
        },
        {
          "output_type": "display_data",
          "data": {
            "text/plain": [
              "\u001b[1m Trainable params: \u001b[0m\u001b[38;5;34m150,660\u001b[0m (588.52 KB)\n"
            ],
            "text/html": [
              "<pre style=\"white-space:pre;overflow-x:auto;line-height:normal;font-family:Menlo,'DejaVu Sans Mono',consolas,'Courier New',monospace\"><span style=\"font-weight: bold\"> Trainable params: </span><span style=\"color: #00af00; text-decoration-color: #00af00\">150,660</span> (588.52 KB)\n",
              "</pre>\n"
            ]
          },
          "metadata": {}
        },
        {
          "output_type": "display_data",
          "data": {
            "text/plain": [
              "\u001b[1m Non-trainable params: \u001b[0m\u001b[38;5;34m0\u001b[0m (0.00 B)\n"
            ],
            "text/html": [
              "<pre style=\"white-space:pre;overflow-x:auto;line-height:normal;font-family:Menlo,'DejaVu Sans Mono',consolas,'Courier New',monospace\"><span style=\"font-weight: bold\"> Non-trainable params: </span><span style=\"color: #00af00; text-decoration-color: #00af00\">0</span> (0.00 B)\n",
              "</pre>\n"
            ]
          },
          "metadata": {}
        },
        {
          "output_type": "display_data",
          "data": {
            "text/plain": [
              "\u001b[1m Optimizer params: \u001b[0m\u001b[38;5;34m2\u001b[0m (12.00 B)\n"
            ],
            "text/html": [
              "<pre style=\"white-space:pre;overflow-x:auto;line-height:normal;font-family:Menlo,'DejaVu Sans Mono',consolas,'Courier New',monospace\"><span style=\"font-weight: bold\"> Optimizer params: </span><span style=\"color: #00af00; text-decoration-color: #00af00\">2</span> (12.00 B)\n",
              "</pre>\n"
            ]
          },
          "metadata": {}
        }
      ]
    },
    {
      "cell_type": "markdown",
      "source": [
        "Model 5 provides the best generalization and accuracy while also keeping the compute relatively simple."
      ],
      "metadata": {
        "id": "xUfqfvBqoIWr"
      }
    },
    {
      "cell_type": "markdown",
      "source": [
        "###5 - Evaluate Optimal Model"
      ],
      "metadata": {
        "id": "cmqdoraqXHwJ"
      }
    },
    {
      "cell_type": "code",
      "source": [
        "import warnings; warnings.filterwarnings('ignore')\n",
        "# Print out classification report with precision, recall, f-score, support\n",
        "\n",
        "# Train\n",
        "y_pred_train = model5.predict(X_train)\n",
        "y_pred_train = np.argmax(y_pred_train, axis=1)\n",
        "print(f'Train Classification Report:\\n{classification_report(y_train, y_pred_train, target_names=target_names)}')\n",
        "\n",
        "# Validation\n",
        "y_pred_val = model5.predict(X_val)\n",
        "y_pred_val = np.argmax(y_pred_val, axis=1)\n",
        "print(f'Validation Classification Report:\\n{classification_report(y_val, y_pred_val, target_names=target_names)}')\n",
        "\n",
        "# Test\n",
        "y_pred_test = model5.predict(X_test)\n",
        "y_pred_test = np.argmax(y_pred_test, axis=1)\n",
        "print(f'Test Classification Report:\\n{classification_report(y_test, y_pred_test, target_names=target_names)}')"
      ],
      "metadata": {
        "colab": {
          "base_uri": "https://localhost:8080/"
        },
        "id": "OVXaDnIIXGvT",
        "outputId": "0357bc3b-0b50-4459-9a12-17c62060bac0"
      },
      "execution_count": 77,
      "outputs": [
        {
          "output_type": "stream",
          "name": "stdout",
          "text": [
            "\u001b[1m6824/6824\u001b[0m \u001b[32m━━━━━━━━━━━━━━━━━━━━\u001b[0m\u001b[37m\u001b[0m \u001b[1m9s\u001b[0m 1ms/step\n",
            "Train Classification Report:\n",
            "              precision    recall  f1-score   support\n",
            "\n",
            "   No Injury       0.81      0.68      0.74    134059\n",
            "       Minor       0.54      0.47      0.50     76242\n",
            "     Serious       0.11      0.50      0.18      6385\n",
            "       Fatal       0.11      0.77      0.19      1652\n",
            "\n",
            "    accuracy                           0.60    218338\n",
            "   macro avg       0.39      0.60      0.40    218338\n",
            "weighted avg       0.69      0.60      0.63    218338\n",
            "\n",
            "\u001b[1m1706/1706\u001b[0m \u001b[32m━━━━━━━━━━━━━━━━━━━━\u001b[0m\u001b[37m\u001b[0m \u001b[1m2s\u001b[0m 1ms/step\n",
            "Validation Classification Report:\n",
            "              precision    recall  f1-score   support\n",
            "\n",
            "   No Injury       0.81      0.68      0.74     33637\n",
            "       Minor       0.54      0.47      0.50     18986\n",
            "     Serious       0.11      0.49      0.18      1562\n",
            "       Fatal       0.10      0.71      0.18       400\n",
            "\n",
            "    accuracy                           0.60     54585\n",
            "   macro avg       0.39      0.59      0.40     54585\n",
            "weighted avg       0.69      0.60      0.63     54585\n",
            "\n",
            "\u001b[1m3240/3240\u001b[0m \u001b[32m━━━━━━━━━━━━━━━━━━━━\u001b[0m\u001b[37m\u001b[0m \u001b[1m5s\u001b[0m 1ms/step\n",
            "Test Classification Report:\n",
            "              precision    recall  f1-score   support\n",
            "\n",
            "   No Injury       0.81      0.67      0.73     65530\n",
            "       Minor       0.52      0.47      0.49     35123\n",
            "     Serious       0.10      0.48      0.17      2699\n",
            "       Fatal       0.05      0.69      0.08       317\n",
            "\n",
            "    accuracy                           0.60    103669\n",
            "   macro avg       0.37      0.58      0.37    103669\n",
            "weighted avg       0.69      0.60      0.63    103669\n",
            "\n"
          ]
        }
      ]
    },
    {
      "cell_type": "markdown",
      "source": [
        "### Push notebook to Git"
      ],
      "metadata": {
        "id": "qFY68SaQT7pr"
      }
    },
    {
      "cell_type": "code",
      "source": [
        "# Connect to GitHub Repo\n",
        "from getpass import getpass\n",
        "\n",
        "# Step 1: Enter token securely\n",
        "token = getpass('Enter your GitHub token: ')\n",
        "\n",
        "# Step 2: Build the full URL\n",
        "repo_owner = \"christinesako-berk\"\n",
        "repo_name = \"ds_207_final_project\"\n",
        "repo_url = f\"https://{token}@github.com/{repo_owner}/{repo_name}.git\"\n",
        "\n",
        "# Clone repo\n",
        "!git clone \"{repo_url}\""
      ],
      "metadata": {
        "id": "BpDhEBC9T7Qc"
      },
      "execution_count": null,
      "outputs": []
    }
  ]
}