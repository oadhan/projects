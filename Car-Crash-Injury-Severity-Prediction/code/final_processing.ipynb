{
  "nbformat": 4,
  "nbformat_minor": 0,
  "metadata": {
    "colab": {
      "provenance": [],
      "toc_visible": true
    },
    "kernelspec": {
      "name": "python3",
      "display_name": "Python 3"
    },
    "language_info": {
      "name": "python"
    }
  },
  "cells": [
    {
      "cell_type": "markdown",
      "source": [
        "#Final Pre-Processing\n",
        "\n",
        "Oviya Adhan\n",
        "\n",
        "DATASCI 207 Machine Learning\n",
        "\n",
        "Professor Cornelia Paulik"
      ],
      "metadata": {
        "id": "4rsA5uYbkM6q"
      }
    },
    {
      "cell_type": "markdown",
      "source": [
        "*Note: This step is simply to one-hot encode the variables to format them to be acceptable to TensorFlow for ML models. The previous pre-processing steps can be seen in Christine's processing_2024.ipynb and processing_2025.ipynb notebooks. Christine's notebook resulted in data files final_merged_2024.csv and final_merged_2025.csv. The later pre-processing steps that was tied in and informed with the EDA can be found in Oviya's EDA.ipynb notebook, but those steps are also copied and demarcated in this notebook. This notebook culminates in training, validation, and test datasets ready to be used in ML models.*"
      ],
      "metadata": {
        "id": "OfLZcbezoYEM"
      }
    },
    {
      "cell_type": "code",
      "execution_count": 48,
      "metadata": {
        "id": "SqSx-wL5kK3w"
      },
      "outputs": [],
      "source": [
        "# Import libraries\n",
        "import pandas as pd\n",
        "import numpy as np\n",
        "import matplotlib.pyplot as plt\n",
        "import seaborn as sns\n",
        "import altair as alt\n",
        "from sklearn.model_selection import train_test_split\n",
        "#from itertools import chain\n",
        "#import ast\n",
        "#from itertools import combinations\n",
        "#from collections import Counter, defaultdict\n",
        "from sklearn.preprocessing import MultiLabelBinarizer\n",
        "import re"
      ]
    },
    {
      "cell_type": "code",
      "source": [
        "# Connect to GitHub Repo\n",
        "from getpass import getpass\n",
        "\n",
        "# Step 1: Enter token securely\n",
        "token = getpass('Enter your GitHub token: ')\n",
        "\n",
        "# Step 2: Build the full URL\n",
        "repo_owner = \"christinesako-berk\"\n",
        "repo_name = \"ds_207_final_project\"\n",
        "repo_url = f\"https://{token}@github.com/{repo_owner}/{repo_name}.git\"\n",
        "\n",
        "# Clone repo\n",
        "!git clone \"{repo_url}\""
      ],
      "metadata": {
        "colab": {
          "base_uri": "https://localhost:8080/"
        },
        "id": "6GBu2FNxpH0k",
        "outputId": "986a73f2-bd47-4189-f7b3-6cac37dbe4d3"
      },
      "execution_count": 49,
      "outputs": [
        {
          "output_type": "stream",
          "name": "stdout",
          "text": [
            "Enter your GitHub token: ··········\n",
            "Cloning into 'ds_207_final_project'...\n",
            "remote: Enumerating objects: 116, done.\u001b[K\n",
            "remote: Counting objects: 100% (116/116), done.\u001b[K\n",
            "remote: Compressing objects: 100% (104/104), done.\u001b[K\n",
            "remote: Total 116 (delta 52), reused 35 (delta 9), pack-reused 0 (from 0)\u001b[K\n",
            "Receiving objects: 100% (116/116), 6.25 MiB | 4.51 MiB/s, done.\n",
            "Resolving deltas: 100% (52/52), done.\n",
            "Updating files: 100% (17/17), done.\n",
            "Filtering content: 100% (6/6), 561.80 MiB | 34.20 MiB/s, done.\n"
          ]
        }
      ]
    },
    {
      "cell_type": "code",
      "source": [
        "%cd /content/ds_207_final_project/data/processed"
      ],
      "metadata": {
        "colab": {
          "base_uri": "https://localhost:8080/"
        },
        "id": "06tLwETvpKb7",
        "outputId": "9fcd2df5-c97c-49dd-86be-5bdc1b3b9018"
      },
      "execution_count": 50,
      "outputs": [
        {
          "output_type": "stream",
          "name": "stdout",
          "text": [
            "/content/ds_207_final_project/data/processed\n"
          ]
        }
      ]
    },
    {
      "cell_type": "code",
      "source": [
        "!ls"
      ],
      "metadata": {
        "colab": {
          "base_uri": "https://localhost:8080/"
        },
        "id": "CZalCK9BpNVF",
        "outputId": "fd48fdbb-d4ca-42d5-9f95-2d4018dbfda9"
      },
      "execution_count": 51,
      "outputs": [
        {
          "output_type": "stream",
          "name": "stdout",
          "text": [
            "ds_207_final_project  final_merged_2024.csv  final_merged_2025.csv\n"
          ]
        }
      ]
    },
    {
      "cell_type": "code",
      "source": [
        "# Load data\n",
        "initial_2024 = pd.read_csv('final_merged_2024.csv')\n",
        "initial_2025 = pd.read_csv('final_merged_2025.csv')"
      ],
      "metadata": {
        "id": "3TSJmzVasVrt"
      },
      "execution_count": 52,
      "outputs": []
    },
    {
      "cell_type": "markdown",
      "source": [
        "### 1 - Filter NaN Values\n",
        "*Originally from EDA.ipynb*"
      ],
      "metadata": {
        "id": "s3nvpd8NpPRB"
      }
    },
    {
      "cell_type": "code",
      "source": [
        "# Remove rows with NaN values in feature columns\n",
        "# Check initial sums\n",
        "print('BEFORE REMOVING NAN VALUES:')\n",
        "print('Shape of data:')\n",
        "print(f'Train/Val: {initial_2024.shape}')\n",
        "print(f'Test: {initial_2025.shape}')\n",
        "print('NaN count:')\n",
        "print(f'{initial_2024.isna().sum()}')\n",
        "print(f'{initial_2025.isna().sum()}')\n",
        "\n",
        "df_2024 = initial_2024.copy() # Create copy for processed df\n",
        "df_2025 = initial_2025.copy() # Create copy for processed df\n",
        "\n",
        "# Remove rows with NaN values in the listed features\n",
        "nan_features = ['MovementPrecCollDescription',\n",
        "                'AirbagDescription',\n",
        "                'SafetyEquipmentDescription',\n",
        "                'SobrietyDrugPhysicalDescription1',\n",
        "                'SpecialInformation',\n",
        "                'SpeedLimit']\n",
        "for i in nan_features:\n",
        "  df_2024 = df_2024.dropna(subset=[i])\n",
        "  df_2025 = df_2025.dropna(subset=[i])\n",
        "\n",
        "# Replace remaining NaN values in outcome label to \"No Injury\"\n",
        "df_2024['ExtentOfInjuryCode'] = df_2024['ExtentOfInjuryCode'].fillna('No Injury')\n",
        "df_2025['ExtentOfInjuryCode'] = df_2025['ExtentOfInjuryCode'].fillna('No Injury')\n",
        "\n",
        "\n",
        "# Check sums after removal\n",
        "print('\\nAFTER REMOVING NAN VALUES:')\n",
        "print('Shape of data:')\n",
        "print(f'Train/Val: {df_2024.shape}')\n",
        "print(f'Test: {df_2025.shape}')\n",
        "print('NaN count:')\n",
        "print(f'{df_2024.isna().sum()}')\n",
        "print(f'{df_2025.isna().sum()}')"
      ],
      "metadata": {
        "colab": {
          "base_uri": "https://localhost:8080/"
        },
        "id": "QVE1vEo5pPhK",
        "outputId": "0b89003d-0e14-4904-d653-dbf985eec420"
      },
      "execution_count": 53,
      "outputs": [
        {
          "output_type": "stream",
          "name": "stdout",
          "text": [
            "BEFORE REMOVING NAN VALUES:\n",
            "Shape of data:\n",
            "Train/Val: (406874, 13)\n",
            "Test: (139443, 13)\n",
            "NaN count:\n",
            "CollisionId                              0\n",
            "CollisionTypeDescription                 0\n",
            "IsHighwayRelated                         0\n",
            "Weather1                                 0\n",
            "RoadCondition1                           0\n",
            "LightingDescription                      0\n",
            "ExtentOfInjuryCode                  293729\n",
            "MovementPrecCollDescription         133951\n",
            "AirbagDescription                   133951\n",
            "SafetyEquipmentDescription          133951\n",
            "SobrietyDrugPhysicalDescription1    133951\n",
            "SpecialInformation                  133951\n",
            "SpeedLimit                          133951\n",
            "dtype: int64\n",
            "CollisionId                             0\n",
            "CollisionTypeDescription                0\n",
            "IsHighwayRelated                        0\n",
            "Weather1                                0\n",
            "RoadCondition1                          0\n",
            "LightingDescription                     0\n",
            "ExtentOfInjuryCode                  98942\n",
            "MovementPrecCollDescription         35774\n",
            "AirbagDescription                   35774\n",
            "SafetyEquipmentDescription          35774\n",
            "SobrietyDrugPhysicalDescription1    35774\n",
            "SpecialInformation                  35774\n",
            "SpeedLimit                          35774\n",
            "dtype: int64\n",
            "\n",
            "AFTER REMOVING NAN VALUES:\n",
            "Shape of data:\n",
            "Train/Val: (272923, 13)\n",
            "Test: (103669, 13)\n",
            "NaN count:\n",
            "CollisionId                         0\n",
            "CollisionTypeDescription            0\n",
            "IsHighwayRelated                    0\n",
            "Weather1                            0\n",
            "RoadCondition1                      0\n",
            "LightingDescription                 0\n",
            "ExtentOfInjuryCode                  0\n",
            "MovementPrecCollDescription         0\n",
            "AirbagDescription                   0\n",
            "SafetyEquipmentDescription          0\n",
            "SobrietyDrugPhysicalDescription1    0\n",
            "SpecialInformation                  0\n",
            "SpeedLimit                          0\n",
            "dtype: int64\n",
            "CollisionId                         0\n",
            "CollisionTypeDescription            0\n",
            "IsHighwayRelated                    0\n",
            "Weather1                            0\n",
            "RoadCondition1                      0\n",
            "LightingDescription                 0\n",
            "ExtentOfInjuryCode                  0\n",
            "MovementPrecCollDescription         0\n",
            "AirbagDescription                   0\n",
            "SafetyEquipmentDescription          0\n",
            "SobrietyDrugPhysicalDescription1    0\n",
            "SpecialInformation                  0\n",
            "SpeedLimit                          0\n",
            "dtype: int64\n"
          ]
        }
      ]
    },
    {
      "cell_type": "markdown",
      "source": [
        "### 2 - Split Data\n",
        "*Originally from EDA.ipynb*"
      ],
      "metadata": {
        "id": "q-EDjRRPs1oX"
      }
    },
    {
      "cell_type": "code",
      "source": [
        "# Split into training, validation, and test sets\n",
        "train_df, val_df = train_test_split(df_2024, test_size=0.2, random_state=42) # 80% train, 20% validation\n",
        "test_df = df_2025.copy()"
      ],
      "metadata": {
        "id": "cqiCIXH8szLW"
      },
      "execution_count": 54,
      "outputs": []
    },
    {
      "cell_type": "code",
      "source": [
        "# Define numeric and categorical variables\n",
        "numeric_vars = ['SpeedLimit'] # Notice: Collision ID not normalized\n",
        "binary_vars = ['IsHighwayRelated']\n",
        "categorical_vars = ['CollisionTypeDescription', 'Weather1', 'RoadCondition1',\n",
        "       'LightingDescription', 'MovementPrecCollDescription',\n",
        "       'AirbagDescription', 'SafetyEquipmentDescription',\n",
        "       'SobrietyDrugPhysicalDescription1', 'SpecialInformation']\n",
        "target_var = ['ExtentOfInjuryCode']"
      ],
      "metadata": {
        "id": "fHm49wDas9AA"
      },
      "execution_count": 55,
      "outputs": []
    },
    {
      "cell_type": "markdown",
      "source": [
        "### 3 - Normalize Numeric Data\n",
        "*Originally from EDA.ipynb*"
      ],
      "metadata": {
        "id": "bhJxSCkmtAtQ"
      }
    },
    {
      "cell_type": "markdown",
      "source": [
        "Note: Collision ID is not normalized since this is an arbitrary unique identifier (UUID) and thus does not add meaningful information to our model. We will drop this feature."
      ],
      "metadata": {
        "id": "-XEPN4mctG_o"
      }
    },
    {
      "cell_type": "code",
      "source": [
        "# Drop collision ID\n",
        "for df in [train_df, val_df, test_df]:\n",
        "    df.drop(columns=['CollisionId'], inplace=True)"
      ],
      "metadata": {
        "id": "bbvu5ZDhs_ma"
      },
      "execution_count": 56,
      "outputs": []
    },
    {
      "cell_type": "code",
      "source": [
        "# Normalize numeric variables (speed limit) with training df statistics\n",
        "speed_mean = train_df['SpeedLimit'].mean()\n",
        "speed_std = train_df['SpeedLimit'].std()\n",
        "\n",
        "for df in [train_df, val_df, test_df]:\n",
        "    df['SpeedLimit'] = (df['SpeedLimit'] - speed_mean) / speed_std"
      ],
      "metadata": {
        "id": "SXxHkS8QtO0b"
      },
      "execution_count": 57,
      "outputs": []
    },
    {
      "cell_type": "markdown",
      "source": [
        "###4 - Change Binary Data to Numeric Binary"
      ],
      "metadata": {
        "id": "dTHDiYd-1qJ-"
      }
    },
    {
      "cell_type": "code",
      "source": [
        "# Change IsHighwayRelated to integer\n",
        "for df in [train_df, val_df, test_df]:\n",
        "  df['IsHighwayRelated'] = df['IsHighwayRelated'].astype(int)"
      ],
      "metadata": {
        "id": "6JrOec611o97"
      },
      "execution_count": 58,
      "outputs": []
    },
    {
      "cell_type": "markdown",
      "source": [
        "### 5 - Encode *cateogrical* variables with one-hot encoding\n",
        "\n"
      ],
      "metadata": {
        "id": "OK8Z-BcItRt4"
      }
    },
    {
      "cell_type": "code",
      "source": [
        "train_copy = train_df.copy()\n",
        "val_copy = val_df.copy()\n",
        "test_copy = test_df.copy()"
      ],
      "metadata": {
        "id": "loiz6XRWws6w"
      },
      "execution_count": 74,
      "outputs": []
    },
    {
      "cell_type": "code",
      "source": [
        "# EXPLODE EACH CATEGORICAL COLUMN INTO ONE-HOT COLUMNS\n",
        "for col in categorical_vars:\n",
        "    print(f\"Processing: {col}\") # check progress\n",
        "\n",
        "    # 1 - Extract raw values by dropping NaNs and converting to string\n",
        "    raw_vals = train_df[col].dropna().astype(str).tolist()\n",
        "\n",
        "    # 2 - Split values by ',' and strip whitespace\n",
        "    split_vals = [[item.strip() for item in row.split(',')] for row in raw_vals]\n",
        "\n",
        "    # 3 - Fit the sklearn multi label binarizer on the training data to extract unique values\n",
        "    mlb = MultiLabelBinarizer()\n",
        "    mlb.fit(split_vals)\n",
        "    print(f\"  → Found {len(mlb.classes_)} unique labels in '{col}'\")\n",
        "\n",
        "    # Helper function to convert a single cell into a list of labels\n",
        "    def to_label_list(x):\n",
        "        if pd.isna(x): return []\n",
        "        return [i.strip() for i in x.split(',')]\n",
        "\n",
        "    # Transform train/val/test\n",
        "    for name, df in zip(['train', 'val', 'test'], [train_copy, val_copy, test_copy]):\n",
        "        # encode column using fitted mlb\n",
        "        encoded = mlb.transform(df[col].apply(to_label_list))\n",
        "        encoded_df = pd.DataFrame(\n",
        "            encoded,\n",
        "            columns=[f\"{col}_{c}\" for c in mlb.classes_],\n",
        "            index=df.index\n",
        "        )\n",
        "\n",
        "        # concatenate encoded columns to df\n",
        "        df = pd.concat([df.drop(columns=[col]), encoded_df], axis=1)\n",
        "\n",
        "        # persist changes made to the correct variable\n",
        "        if name == 'train':\n",
        "            train_copy = df\n",
        "        elif name == 'val':\n",
        "            val_copy = df\n",
        "        else:\n",
        "            test_copy = df"
      ],
      "metadata": {
        "colab": {
          "base_uri": "https://localhost:8080/"
        },
        "collapsed": true,
        "id": "ciCCnHn4yCV8",
        "outputId": "bea58d9a-40ee-42b0-fc10-9078697dd1ea"
      },
      "execution_count": 75,
      "outputs": [
        {
          "output_type": "stream",
          "name": "stdout",
          "text": [
            "Processing: CollisionTypeDescription\n",
            "  → Found 8 unique labels in 'CollisionTypeDescription'\n",
            "Processing: Weather1\n",
            "  → Found 40 unique labels in 'Weather1'\n",
            "Processing: RoadCondition1\n",
            "  → Found 333 unique labels in 'RoadCondition1'\n",
            "Processing: LightingDescription\n",
            "  → Found 5 unique labels in 'LightingDescription'\n",
            "Processing: MovementPrecCollDescription\n",
            "  → Found 76 unique labels in 'MovementPrecCollDescription'\n",
            "Processing: AirbagDescription\n",
            "  → Found 20 unique labels in 'AirbagDescription'\n",
            "Processing: SafetyEquipmentDescription\n",
            "  → Found 78 unique labels in 'SafetyEquipmentDescription'\n",
            "Processing: SobrietyDrugPhysicalDescription1\n",
            "  → Found 34 unique labels in 'SobrietyDrugPhysicalDescription1'\n",
            "Processing: SpecialInformation\n",
            "  → Found 44 unique labels in 'SpecialInformation'\n"
          ]
        }
      ]
    },
    {
      "cell_type": "code",
      "source": [
        "# CLEAN UP COLUMN NAMES\n",
        "def clean_column_names(df):\n",
        "    \"\"\"\n",
        "    Clean and standardize one-hot encoded column names.\n",
        "    Removes brackets, quotes, and excessive spaces.\n",
        "    \"\"\"\n",
        "    clean_cols = []\n",
        "    for col in df.columns:\n",
        "        # remove brackets and quotes\n",
        "        col_clean = re.sub(r\"[\\[\\]']\", \"\", col)\n",
        "\n",
        "        # remove 'OTHER* - ' if present (specifically for road condition var)\n",
        "        col_clean = re.sub(r\"OTHER\\*\\s*-\\s*\", \"\", col_clean)\n",
        "\n",
        "        # collapse multiple spaces or underscores\n",
        "        col_clean = re.sub(r\"\\s+\", \" \", col_clean)\n",
        "        col_clean = re.sub(r\"_+\", \"_\", col_clean)\n",
        "\n",
        "        # strip spaces around underscores\n",
        "        col_clean = col_clean.replace(\" _\", \"_\").replace(\"_ \", \"_\").strip()\n",
        "        clean_cols.append(col_clean)\n",
        "\n",
        "    df.columns = clean_cols\n",
        "    return df\n",
        "\n",
        "train_copy = clean_column_names(train_copy)\n",
        "val_copy = clean_column_names(val_copy)\n",
        "test_copy = clean_column_names(test_copy)"
      ],
      "metadata": {
        "id": "8X0mP9Uddvd6"
      },
      "execution_count": 76,
      "outputs": []
    },
    {
      "cell_type": "code",
      "source": [
        "# CONSOLIDATE DUPLICATE COLUMNS BY TAKING MAX (1)\n",
        "def resolve_column_duplicates(df, verbose=True):\n",
        "    \"\"\"\n",
        "    Resolves duplicate columns in a DataFrame by keeping one column per name\n",
        "    and taking the row-wise max across duplicates.\n",
        "    \"\"\"\n",
        "    dupes = df.columns[df.columns.duplicated()].unique()\n",
        "\n",
        "    if len(dupes) == 0:\n",
        "        if verbose:\n",
        "            print(\"✅ No duplicate columns found.\")\n",
        "        return df\n",
        "\n",
        "    if verbose:\n",
        "        print(f\"Found {len(dupes)} duplicate column(s). Resolving...\")\n",
        "\n",
        "    for col in dupes:\n",
        "        cols = df.loc[:, df.columns == col]\n",
        "        # compute max and drop all instances of col\n",
        "        merged = cols.max(axis=1)\n",
        "        df = df.drop(columns=cols.columns)\n",
        "        # add back a single column with merged values\n",
        "        df[col] = merged\n",
        "\n",
        "    if verbose:\n",
        "        print(\"✅ Duplicates resolved.\")\n",
        "\n",
        "    return df\n",
        "\n",
        "# Apply function\n",
        "train_copy = resolve_column_duplicates(train_copy)\n",
        "val_copy = resolve_column_duplicates(val_copy)\n",
        "test_copy = resolve_column_duplicates(test_copy)"
      ],
      "metadata": {
        "colab": {
          "base_uri": "https://localhost:8080/"
        },
        "id": "7qZrHnm9fxJn",
        "outputId": "3ea3cbd0-e15a-4c5a-808e-83a4127face3"
      },
      "execution_count": 81,
      "outputs": [
        {
          "output_type": "stream",
          "name": "stdout",
          "text": [
            "Found 66 duplicate column(s). Resolving...\n",
            "✅ Duplicates resolved.\n",
            "Found 66 duplicate column(s). Resolving...\n",
            "✅ Duplicates resolved.\n",
            "Found 66 duplicate column(s). Resolving...\n",
            "✅ Duplicates resolved.\n"
          ]
        }
      ]
    },
    {
      "cell_type": "code",
      "source": [
        "train_copy.columns.duplicated().any()"
      ],
      "metadata": {
        "colab": {
          "base_uri": "https://localhost:8080/"
        },
        "id": "aDswubX304gA",
        "outputId": "f00cf1dc-0eca-4ed1-e7f0-65155c50ba4e"
      },
      "execution_count": 82,
      "outputs": [
        {
          "output_type": "execute_result",
          "data": {
            "text/plain": [
              "np.False_"
            ]
          },
          "metadata": {},
          "execution_count": 82
        }
      ]
    },
    {
      "cell_type": "code",
      "source": [
        "# CONSOLIDATE SINGULAR/PLURAL COLUMNS BY TAKING MAX (1)\n",
        "def merge_singular_plural(df):\n",
        "    '''\n",
        "    Function to merge columns that differ only by a trailing 's'.\n",
        "    For each such pair, merge by keeping one column (singular instance) and take max value.\n",
        "    '''\n",
        "    cols = list(df.columns)\n",
        "    merged_cols = set()\n",
        "\n",
        "    for col in cols:\n",
        "        if col in merged_cols:\n",
        "            continue  # already handled\n",
        "\n",
        "        if col.endswith('s'):\n",
        "            # define singular instance of col\n",
        "            singular = col[:-1]\n",
        "            # if singular instance is a column\n",
        "            if singular in df.columns:\n",
        "                # merge the two columns\n",
        "                df[singular] = df[[col, singular]].max(axis=1)\n",
        "                df.drop(columns=[col], inplace=True)\n",
        "                merged_cols.add(singular)\n",
        "                merged_cols.add(col)\n",
        "        else:\n",
        "            # define plural instance of col\n",
        "            plural = col + 's'\n",
        "            # if plural instance is a column\n",
        "            if plural in df.columns:\n",
        "                # merge the two columns\n",
        "                df[col] = df[[col, plural]].max(axis=1)\n",
        "                df.drop(columns=[plural], inplace=True)\n",
        "                merged_cols.add(col)\n",
        "                merged_cols.add(plural)\n",
        "\n",
        "    # Clean up any remaining exact duplicates (just in case)\n",
        "    df = resolve_column_duplicates(df)\n",
        "    return df\n",
        "\n",
        "# Apply function only on train\n",
        "train_copy = merge_singular_plural(train_copy)\n",
        "val_copy = merge_singular_plural(val_copy)\n",
        "test_copy = merge_singular_plural(test_copy)"
      ],
      "metadata": {
        "colab": {
          "base_uri": "https://localhost:8080/"
        },
        "id": "uglVf0wNgXix",
        "outputId": "b2687135-ccb6-4424-f159-26603cc97ef9"
      },
      "execution_count": 84,
      "outputs": [
        {
          "output_type": "stream",
          "name": "stdout",
          "text": [
            "✅ No duplicate columns found.\n",
            "✅ No duplicate columns found.\n",
            "✅ No duplicate columns found.\n"
          ]
        }
      ]
    },
    {
      "cell_type": "code",
      "source": [
        "# Align val/test columns to train\n",
        "val_copy = val_copy.reindex(columns=train_copy.columns, fill_value=0)\n",
        "test_copy = test_copy.reindex(columns=train_copy.columns, fill_value=0)"
      ],
      "metadata": {
        "id": "AzxcbCrc0DcN"
      },
      "execution_count": 85,
      "outputs": []
    },
    {
      "cell_type": "code",
      "source": [
        "# Check final list of columns\n",
        "for i in train_copy.columns:\n",
        "  print(i)"
      ],
      "metadata": {
        "colab": {
          "base_uri": "https://localhost:8080/"
        },
        "id": "TFoA0y-jiYNm",
        "outputId": "1ded38b2-822d-49e4-8c12-e0bc77a0cc99"
      },
      "execution_count": 86,
      "outputs": [
        {
          "output_type": "stream",
          "name": "stdout",
          "text": [
            "IsHighwayRelated\n",
            "ExtentOfInjuryCode\n",
            "SpeedLimit\n",
            "CollisionTypeDescription_BROADSIDE\n",
            "CollisionTypeDescription_HEAD-ON\n",
            "CollisionTypeDescription_HIT OBJECT\n",
            "CollisionTypeDescription_OTHER\n",
            "CollisionTypeDescription_OVERTURNED\n",
            "CollisionTypeDescription_REAR END\n",
            "CollisionTypeDescription_SIDE SWIPE\n",
            "CollisionTypeDescription_VEHICLE/PEDESTRAIN\n",
            "Weather1_CLEAR\n",
            "Weather1_CLEAR- SMOKY\n",
            "Weather1_CLOUDY\n",
            "Weather1_DENSE SMOKE\n",
            "Weather1_DIRT CLOUD\n",
            "Weather1_DIRT PLUME\n",
            "Weather1_DUST\n",
            "Weather1_DUST CLOUD\n",
            "Weather1_DUST STORM\n",
            "Weather1_DUST VISIBILITY 1000 FT.\n",
            "Weather1_DUST/POOR VISIBILITY\n",
            "Weather1_DUSTY\n",
            "Weather1_EXTREME HEAT\n",
            "Weather1_FIRE IN AREA\n",
            "Weather1_FOG/VISIBILITY\n",
            "Weather1_HAIL\n",
            "Weather1_HAILING\n",
            "Weather1_HEAVY HAIL\n",
            "Weather1_HEAVY RAIN/HAIL\n",
            "Weather1_HEAVY/THICK MIST\n",
            "Weather1_ICY\n",
            "Weather1_ICY ROADWAYS\n",
            "Weather1_LOW/FREEZING TEMPERATURES\n",
            "Weather1_MIST\n",
            "Weather1_MISTING\n",
            "Weather1_MISTY\n",
            "Weather1_OTHER\n",
            "Weather1_OVERCAST\n",
            "Weather1_PARTLY CLOUDY\n",
            "Weather1_RAINING\n",
            "Weather1_SANDSTORM\n",
            "Weather1_SANDSTROM\n",
            "Weather1_SMOKE\n",
            "Weather1_SMOKEY\n",
            "Weather1_SNOWING\n",
            "Weather1_SUN\n",
            "Weather1_SUNLIGHT\n",
            "Weather1_THICK SMOKE\n",
            "Weather1_UNKNOWN\n",
            "Weather1_WIND\n",
            "RoadCondition1_\n",
            "RoadCondition1_CONSTRUCTION-REPAIR ZONE\n",
            "RoadCondition1_CONSTRUCTION-REPAIR ZONE - CONSTRUCTION-REPAIR ZONE\n",
            "RoadCondition1_FLOODED*\n",
            "RoadCondition1_HOLES- DEEPRUT*\n",
            "RoadCondition1_LOOSE MATERIAL ON ROADWAY*\n",
            "RoadCondition1_NO UNUSUAL CONDITIONS\n",
            "RoadCondition1_NO UNUSUAL CONDITIONS - NO UNUSUAL CONDITIONS\n",
            "RoadCondition1_OBSTRUCTION ON ROADWAY*\n",
            "RoadCondition1_#2 LANE CLOSED\n",
            "RoadCondition1_#4 LANE CLOSED/11-44\n",
            "RoadCondition1_#6 AND #7 LANES CLOSED\n",
            "RoadCondition1_1 INCH OF WATER\n",
            "RoadCondition1_12 FT LADDER\n",
            "RoadCondition1_ACTIVE CRASH SCENE\n",
            "RoadCondition1_ACTIVE R-2 CHAIN CONTROL\n",
            "RoadCondition1_ACTIVE ROAD CLOSURE\n",
            "RoadCondition1_ANIMAL\n",
            "RoadCondition1_ANIMAL IN ROADWAY\n",
            "RoadCondition1_BACKING\n",
            "RoadCondition1_BLACK ICE\n",
            "RoadCondition1_BLOWING SAND\n",
            "RoadCondition1_BODY OF WATER IN ROAD\n",
            "RoadCondition1_BREWING GRAIN ON ROADWAY\n",
            "RoadCondition1_BROWN SLICK SUBSTANCE\n",
            "RoadCondition1_BUMP IN ROADWAY\n",
            "RoadCondition1_BUMP IN THE ROAD\n",
            "RoadCondition1_CALTRANS SWEEPER TRUCK\n",
            "RoadCondition1_CANOLA OIL ON ROADWAY\n",
            "RoadCondition1_CANOLA OIL SPILL\n",
            "RoadCondition1_CAR FIRE\n",
            "RoadCondition1_CAR WASH\n",
            "RoadCondition1_CENTER SNOW BERM\n",
            "RoadCondition1_CHAIN CONTROL\n",
            "RoadCondition1_CHAIN CONTROL IN EFFECT\n",
            "RoadCondition1_CHAIN CONTROL R1M\n",
            "RoadCondition1_CHP ACTIVITY\n",
            "RoadCondition1_CITY REPAIR\n",
            "RoadCondition1_CLOSED DUE TO CRASH\n",
            "RoadCondition1_CLOSED FREEWAY\n",
            "RoadCondition1_CLOSED INTERSECTION\n",
            "RoadCondition1_CLOSURE\n",
            "RoadCondition1_CLOSURE FOR FATAL CRASH\n",
            "RoadCondition1_CLOSURE ON FREEWAY\n",
            "RoadCondition1_COLLISION SCENE\n",
            "RoadCondition1_COLLSION\n",
            "RoadCondition1_CONCERT CONE CLOSURE\n",
            "RoadCondition1_CONE CLOSURE FOR PARADE\n",
            "RoadCondition1_CONE PATTERN\n",
            "RoadCondition1_CONE PATTERN/FLOODED\n",
            "RoadCondition1_CONED ROADWAY\n",
            "RoadCondition1_CONES\n",
            "RoadCondition1_CONSTRUCTION\n",
            "RoadCondition1_CRACK IN ROADWAY\n",
            "RoadCondition1_CRASH BLOCKING ROADWAY\n",
            "RoadCondition1_CRASH DEBRIS FIELD\n",
            "RoadCondition1_CRASH/LANE CLOSURE\n",
            "RoadCondition1_CURVE\n",
            "RoadCondition1_DEAD ANIMAL IN ROADWAY\n",
            "RoadCondition1_DEBRIS\n",
            "RoadCondition1_DEBRIS IN ROADWAY\n",
            "RoadCondition1_DEEP SNOW\n",
            "RoadCondition1_DEFECTIVE GATE ARM\n",
            "RoadCondition1_DENSE FOG\n",
            "RoadCondition1_DIESEL IN ROADWAY\n",
            "RoadCondition1_DIP IN #1 LANE\n",
            "RoadCondition1_DIRT AND GRAVEL ROAD\n",
            "RoadCondition1_DIRT CLOUD\n",
            "RoadCondition1_DIRT ON ROADWAY\n",
            "RoadCondition1_DIRT PORTION OF ROADWAY\n",
            "RoadCondition1_DIRT ROAD\n",
            "RoadCondition1_DIRT ROADWAY\n",
            "RoadCondition1_DIRT SHOULDER\n",
            "RoadCondition1_DIRT TRAIL\n",
            "RoadCondition1_DIRT TRAILS\n",
            "RoadCondition1_DIRT/ SAND ROADWAY\n",
            "RoadCondition1_DIRT/GRAVEL LEVEE ROAD\n",
            "RoadCondition1_DIRT/GRAVEL ROAD\n",
            "RoadCondition1_DIRT/SAND SHOULDER\n",
            "RoadCondition1_DIRT/SMALL ROCKS\n",
            "RoadCondition1_DISABLED VEHICLE\n",
            "RoadCondition1_DISABLED VEHICLE IN LANES\n",
            "RoadCondition1_DOG\n",
            "RoadCondition1_DOG IN ROADWAY\n",
            "RoadCondition1_DOG RUNNING IN LANES\n",
            "RoadCondition1_DUI CHECKPOINT\n",
            "RoadCondition1_DUST\n",
            "RoadCondition1_DUST 1000 VISIBILITY\n",
            "RoadCondition1_DUST CLOUD PRESENT\n",
            "RoadCondition1_DUST STORM\n",
            "RoadCondition1_E8\n",
            "RoadCondition1_EMERGENCY CLOSURE\n",
            "RoadCondition1_EMERGENCY INCIDENT\n",
            "RoadCondition1_EMERGENCY LANE CLOSURE\n",
            "RoadCondition1_EMERGENCY ROAD CLOSURE\n",
            "RoadCondition1_EMERGENCY SCENE\n",
            "RoadCondition1_EMERGENCY VEHICLES\n",
            "RoadCondition1_END OF PAVED ROADWAY\n",
            "RoadCondition1_END PAVED ROAD\n",
            "RoadCondition1_FADED RDWY MARKINGS\n",
            "RoadCondition1_FLARE PATTERN\n",
            "RoadCondition1_FLARE PATTETRN\n",
            "RoadCondition1_FRESH HAIL\n",
            "RoadCondition1_GLARE OF RISING SUN\n",
            "RoadCondition1_GLASS IN RDWY\n",
            "RoadCondition1_GOLFCOURSE GRASS\n",
            "RoadCondition1_GRASS/DIRT\n",
            "RoadCondition1_GRAVEL\n",
            "RoadCondition1_GRAVEL AND DIRT IN MEDIAN\n",
            "RoadCondition1_GRAVEL DRIVEWAY\n",
            "RoadCondition1_GRAVEL PARKING LOT\n",
            "RoadCondition1_GRAVEL ROAD\n",
            "RoadCondition1_GRAVEL SHOULDER\n",
            "RoadCondition1_GROUND WET\n",
            "RoadCondition1_HAIL\n",
            "RoadCondition1_HAIL APPRX 2 IN ROADWAY\n",
            "RoadCondition1_HAIL COVERED ASPHALT\n",
            "RoadCondition1_HAIL ON ROADWAY\n",
            "RoadCondition1_HEAVY DOWNPOUR\n",
            "RoadCondition1_HEAVY HAIL\n",
            "RoadCondition1_HEAVY HOLIDAY TRAFFIC\n",
            "RoadCondition1_HEAVY OIL IN ROADWAY\n",
            "RoadCondition1_HEAVY RAIN\n",
            "RoadCondition1_HEAVY SNOWFALL\n",
            "RoadCondition1_HEAVY TRAFFIC\n",
            "RoadCondition1_HEAVY WIND\n",
            "RoadCondition1_HIGH TRAFFIC\n",
            "RoadCondition1_HYDRALIC FLUID\n",
            "RoadCondition1_ICE\n",
            "RoadCondition1_ICY\n",
            "RoadCondition1_ICY ROAD\n",
            "RoadCondition1_ICY ROADWAY\n",
            "RoadCondition1_ICY ROADWAYS\n",
            "RoadCondition1_ICY/SLUSH\n",
            "RoadCondition1_LADDER IN LANE\n",
            "RoadCondition1_LADDER IN TRAFFIC LANES\n",
            "RoadCondition1_LANE CLOSED (5)\n",
            "RoadCondition1_LANE CLOSURE\n",
            "RoadCondition1_LANE CLOSURES\n",
            "RoadCondition1_LANE CONED OFF\n",
            "RoadCondition1_LANE LINES NOT PAINTED\n",
            "RoadCondition1_LANE MERGE/LANDSCAPERS\n",
            "RoadCondition1_LANES NOT PAINTED\n",
            "RoadCondition1_LARGE BUMP\n",
            "RoadCondition1_LARGE TREE BLOCKS VISION\n",
            "RoadCondition1_LARGES POOLS OF WATER\n",
            "RoadCondition1_LAYER OF HAIL ON ROADWAY\n",
            "RoadCondition1_LIGHT OUT\n",
            "RoadCondition1_LIGHT RAIL\n",
            "RoadCondition1_LIGHT RAIN\n",
            "RoadCondition1_LIGHTS ON FLASH\n",
            "RoadCondition1_LIQUID SUBSTANCE\n",
            "RoadCondition1_LOOSE DOG\n",
            "RoadCondition1_LOOSE GRAVEL\n",
            "RoadCondition1_LOOSE MANHOLE\n",
            "RoadCondition1_LOSE GRAVEL ON ROADWAY\n",
            "RoadCondition1_LOW HANGING TREE\n",
            "RoadCondition1_LOW HANGING WIRE\n",
            "RoadCondition1_LOW HANGING WIRES\n",
            "RoadCondition1_LOW POWER LINE\n",
            "RoadCondition1_LOW POWER LINE ABOVE RD\n",
            "RoadCondition1_LOW UTILITY LINES\n",
            "RoadCondition1_MANHOLE COVER\n",
            "RoadCondition1_MARKINGS COVERED\n",
            "RoadCondition1_MATTRESS IN LANE\n",
            "RoadCondition1_MEAT ON ROADWAY\n",
            "RoadCondition1_MEAT ON THE ROADWAY\n",
            "RoadCondition1_MEDICAL EMERGENCY\n",
            "RoadCondition1_MINERAL OIL SPILL\n",
            "RoadCondition1_MISSING DELINEATORS\n",
            "RoadCondition1_MUD IN THE ROADWAY\n",
            "RoadCondition1_MY\n",
            "RoadCondition1_NO LANE LINES\n",
            "RoadCondition1_OBJECT ON ROADWAY\n",
            "RoadCondition1_OBSTRUCTED ROAD\n",
            "RoadCondition1_OFFROAD\n",
            "RoadCondition1_OIL\n",
            "RoadCondition1_OIL IN ROADWAY\n",
            "RoadCondition1_OIL ON ROADWAY\n",
            "RoadCondition1_OIL SLICK\n",
            "RoadCondition1_OIL SPILL\n",
            "RoadCondition1_OIL SPILL ACROSS ROAD WAY\n",
            "RoadCondition1_OILY\n",
            "RoadCondition1_ONE LANE DIRT ROAD\n",
            "RoadCondition1_ONE WAY TRAFFIC\n",
            "RoadCondition1_PAINTED LINES NOT VISIBLE\n",
            "RoadCondition1_PARADE\n",
            "RoadCondition1_PARKED EMERGENCY VEHICLE\n",
            "RoadCondition1_PARKED VEHICLE.\n",
            "RoadCondition1_PARKING LOT\n",
            "RoadCondition1_PARTS OF ICY ROADWAY.\n",
            "RoadCondition1_PET\n",
            "RoadCondition1_PLASTIC DEBRIS\n",
            "RoadCondition1_POT HOLES ON THE ROADWAY\n",
            "RoadCondition1_POTHOLE\n",
            "RoadCondition1_POULTRY ON ROADWAY\n",
            "RoadCondition1_POWER POLE ACROSS LANES\n",
            "RoadCondition1_PREVIOUS COLLISION\n",
            "RoadCondition1_PREVIOUS COLLISION DEBRI\n",
            "RoadCondition1_PREVIOUS CRASH\n",
            "RoadCondition1_PREVIOUS TRAFFIC CRASH\n",
            "RoadCondition1_PRIOR COLLISION\n",
            "RoadCondition1_PRIOR CRASH\n",
            "RoadCondition1_PRIOR CRASH-SEE NARRATIVE\n",
            "RoadCondition1_PRIVATE DRIVEWAY\n",
            "RoadCondition1_PRIVATE PROPERTY\n",
            "RoadCondition1_PUDDLE OF WATER\n",
            "RoadCondition1_PUDDLE(B/O SPRINKLERS)\n",
            "RoadCondition1_PUDDLES OF WATER NEARBY\n",
            "RoadCondition1_PURSUIT\n",
            "RoadCondition1_R-1 CONDITIONS\n",
            "RoadCondition1_R-2\n",
            "RoadCondition1_R-2 CHAIN CONTROL\n",
            "RoadCondition1_R-2 CHAIN CONTROLS\n",
            "RoadCondition1_R-2 CONDITION\n",
            "RoadCondition1_R-2 CONDITIONS\n",
            "RoadCondition1_R2 ACTIVE CHAIN CONTROL\n",
            "RoadCondition1_R2 CHAIN CONTROL\n",
            "RoadCondition1_R2 CHAIN CONTROLS\n",
            "RoadCondition1_R2 CONDITIONS\n",
            "RoadCondition1_RAILROAD TRACKS\n",
            "RoadCondition1_RAIN\n",
            "RoadCondition1_RAIN WATER\n",
            "RoadCondition1_RAIN/WET\n",
            "RoadCondition1_RAINING\n",
            "RoadCondition1_RAISED ASPHALT\n",
            "RoadCondition1_RECENT TC DEBRIS\n",
            "RoadCondition1_REDUCED\n",
            "RoadCondition1_REDUCED LINE OF SIGHT\n",
            "RoadCondition1_REOCCURRING CONGESTION\n",
            "RoadCondition1_REPAIRED POTHOLE\n",
            "RoadCondition1_RIGHT LANE CLOSED AHEAD\n",
            "RoadCondition1_RISING SUN\n",
            "RoadCondition1_ROAD CHANGED TO ONE WAY\n",
            "RoadCondition1_ROAD CLOSED\n",
            "RoadCondition1_ROAD CLOSURE\n",
            "RoadCondition1_ROAD CONSTRUCTION\n",
            "RoadCondition1_ROADWAY BLOCKED\n",
            "RoadCondition1_ROADWAY CLOSED\n",
            "RoadCondition1_ROADWAY CLOSURE\n",
            "RoadCondition1_ROADWAY HAZARD\n",
            "RoadCondition1_ROADWAY LIP\n",
            "RoadCondition1_ROADWAY MAINTENANCE\n",
            "RoadCondition1_ROCK IN ROADWAY\n",
            "RoadCondition1_RUNOFF WATER ACROSS ROAD\n",
            "RoadCondition1_RUTTED\n",
            "RoadCondition1_SAND BUILD UP\n",
            "RoadCondition1_SCHOOL ZONE\n",
            "RoadCondition1_SEE MISC. BOX\n",
            "RoadCondition1_SEE NARRA\n",
            "RoadCondition1_SEE SCENE DESCRIPTION\n",
            "RoadCondition1_SEWER LIP WAS OFF\n",
            "RoadCondition1_SHARPE CURVE\n",
            "RoadCondition1_SIGNS ON OVERCROSSING\n",
            "RoadCondition1_SLICK\n",
            "RoadCondition1_SLICK ROADWAY\n",
            "RoadCondition1_SMOKE\n",
            "RoadCondition1_SMOKEY\n",
            "RoadCondition1_SNOW\n",
            "RoadCondition1_SNOW COVERED\n",
            "RoadCondition1_SNOW COVERED DIRT ROAD\n",
            "RoadCondition1_SNOW COVERED RDWY\n",
            "RoadCondition1_SNOW COVERED ROAD\n",
            "RoadCondition1_SNOW COVERED ROADWAY\n",
            "RoadCondition1_SNOW ON SIDES\n",
            "RoadCondition1_SNOW/HAIL\n",
            "RoadCondition1_SNOW/ICE\n",
            "RoadCondition1_SNOW/ICY ROADWAY\n",
            "RoadCondition1_SNOW/SLUSH/WET ROADWAY\n",
            "RoadCondition1_SNOWY/ICEY\n",
            "RoadCondition1_SPEED DIP\n",
            "RoadCondition1_SPEED HUMPS\n",
            "RoadCondition1_SPILLED LOAD\n",
            "RoadCondition1_SR-14 N/B #2 LN CLOSED\n",
            "RoadCondition1_STALLED VEHICLE #1 LANE\n",
            "RoadCondition1_STANDING WATER\n",
            "RoadCondition1_STEEP DECLINE\n",
            "RoadCondition1_STOP AND GO TRAFFIC\n",
            "RoadCondition1_STOP STICK\n",
            "RoadCondition1_STOPPED BUS\n",
            "RoadCondition1_STOPPED GARBAGE TRUCK\n",
            "RoadCondition1_STOPPED TRAFFIC\n",
            "RoadCondition1_STOPPED TRAFFIC IN LANE\n",
            "RoadCondition1_STOPPED VEHICLE\n",
            "RoadCondition1_STRANDED VEH ON ROAD\n",
            "RoadCondition1_SUN\n",
            "RoadCondition1_SUN LIGHT\n",
            "RoadCondition1_SUNLIGHT\n",
            "RoadCondition1_SURFACE IRREGULARITY\n",
            "RoadCondition1_TEMPORARY LANE CLOSURE\n",
            "RoadCondition1_TEMPORARY ROAD CLOSURE\n",
            "RoadCondition1_TIRE IN ROAD\n",
            "RoadCondition1_TIRE IN ROADWAY\n",
            "RoadCondition1_TOLL PLAZA LANES CLOSED\n",
            "RoadCondition1_TRAFFIC COLLISION\n",
            "RoadCondition1_TRAFFIC FLARES\n",
            "RoadCondition1_TRAFFIC SIGNAL OUT\n",
            "RoadCondition1_TRAFFIC STOPPED\n",
            "RoadCondition1_TRAFFIC-LANE CLOSURE\n",
            "RoadCondition1_TRASHBAG\n",
            "RoadCondition1_TREE BRANCH\n",
            "RoadCondition1_TREE IN LANES\n",
            "RoadCondition1_TREE LIMBS\n",
            "RoadCondition1_TREE TRIMMING- EB CLOSED\n",
            "RoadCondition1_TRUCK\n",
            "RoadCondition1_TUMBLEWEEDS\n",
            "RoadCondition1_UNEVEN DIRT ROAD\n",
            "RoadCondition1_UNEVEN ROADWAY\n",
            "RoadCondition1_UNEVEN SHOULDER\n",
            "RoadCondition1_UNIMPROVED DIRT TRAIL\n",
            "RoadCondition1_UNKNOWN\n",
            "RoadCondition1_UNMARKED ROUNDABOUT\n",
            "RoadCondition1_UNPAVED ROAD\n",
            "RoadCondition1_UNSAFE TURN\n",
            "RoadCondition1_UNSAFE TURNING\n",
            "RoadCondition1_USED FOOD GREASE\n",
            "RoadCondition1_V1 IN ROAD/ PREV CRASH\n",
            "RoadCondition1_VEHICLE FIRE\n",
            "RoadCondition1_VEHICLE PARKED SHOULDER\n",
            "RoadCondition1_VEHICLE PURSUIT\n",
            "RoadCondition1_VEHICLES BLOCKING/CRASH\n",
            "RoadCondition1_VERY STRONG WIND\n",
            "RoadCondition1_WASH BAY\n",
            "RoadCondition1_WATER DRAINING ON ROADWAY\n",
            "RoadCondition1_WATER IN ROADWAY\n",
            "RoadCondition1_WATER PATCH IN ROADWAY\n",
            "RoadCondition1_WET\n",
            "RoadCondition1_WET CARWASH TRACK\n",
            "RoadCondition1_WET ROAD\n",
            "RoadCondition1_WET ROADS\n",
            "RoadCondition1_WET ROADWAY\n",
            "RoadCondition1_WET SLIPPERY LEAVES\n",
            "RoadCondition1_REDUCED ROADWAY WIDTH\n",
            "LightingDescription_DARK-NO STREET LIGHTS\n",
            "LightingDescription_DARK-STREET LIGHTS\n",
            "LightingDescription_DARK-STREET LIGHTS NOT FUNCTIONING*\n",
            "LightingDescription_DAYLIGHT\n",
            "LightingDescription_DUSK-DAWN\n",
            "SpecialInformation_CELL PHONE HANDHELD IN USE / SCHOOL BUS RELATED\n",
            "SpecialInformation_CELL PHONE HANDHELD IN USE / CELL PHONE USE UNKNOWN\n",
            "SpecialInformation_HAZARDOUS MATERIAL / CELL PHONE HANDHELD IN USE\n",
            "MovementPrecCollDescription_BACKING\n",
            "MovementPrecCollDescription_CHANGING LANES\n",
            "MovementPrecCollDescription_ENTERING TRAFFICD\n",
            "MovementPrecCollDescription_LANE SPLITTING\n",
            "MovementPrecCollDescription_MAKING LEFT TURN\n",
            "MovementPrecCollDescription_MAKING RIGHT TURN\n",
            "MovementPrecCollDescription_MAKING U TURN\n",
            "MovementPrecCollDescription_MERGING\n",
            "MovementPrecCollDescription_OTHER UNSAFE TURNING\n",
            "MovementPrecCollDescription_OTHER\n",
            "MovementPrecCollDescription_PARKED\n",
            "MovementPrecCollDescription_PARKING MANEUVER\n",
            "MovementPrecCollDescription_PASSING OTHER VEHICLE\n",
            "MovementPrecCollDescription_PROCEEDING STRAIGHT\n",
            "MovementPrecCollDescription_RAN OFF ROAD\n",
            "MovementPrecCollDescription_SLOWING/STOPPING\n",
            "MovementPrecCollDescription_STOPPED\n",
            "MovementPrecCollDescription_TRAVELLING WRONG WAY\n",
            "MovementPrecCollDescription_XING INTO OPPOSING LANE\n",
            "AirbagDescription_AIR BAG DEPLOYED\n",
            "AirbagDescription_AIR BAG NOT DEPLOYED\n",
            "AirbagDescription_NOT REQUIRED\n",
            "AirbagDescription_OTHER\n",
            "AirbagDescription_UNKNOWN\n",
            "SafetyEquipmentDescription_CHILD IN VEHICLE USE UNKNOWN\n",
            "SafetyEquipmentDescription_CHILD IN VEHICLE USED\n",
            "SafetyEquipmentDescription_MOTOR BICYCLE DRIVER NO HELMET\n",
            "SafetyEquipmentDescription_MOTOR BICYCLE DRIVER WITH HELMET\n",
            "SafetyEquipmentDescription_MOTOR BICYCLE PASSENGER WITH HELMET\n",
            "SafetyEquipmentDescription_NOT REQUIRED\n",
            "SafetyEquipmentDescription_OCCUPANT LAP BELT NOT USED\n",
            "SafetyEquipmentDescription_OCCUPANT LAP BELT USED\n",
            "SafetyEquipmentDescription_OCCUPANT LAP SHOULDER HARNESS NOT USED\n",
            "SafetyEquipmentDescription_OCCUPANT LAP SHOULDER HARNESS USED\n",
            "SafetyEquipmentDescription_OCCUPANT NONE IN VEHICLE\n",
            "SafetyEquipmentDescription_OCCUPANT PASSIVE RESTRAINT NOT USED\n",
            "SafetyEquipmentDescription_OCCUPANT PASSIVE RESTRAINT USED\n",
            "SafetyEquipmentDescription_OCCUPANT SHOULDER HARNESS NOT USED\n",
            "SafetyEquipmentDescription_OCCUPANT SHOULDER HARNESS USED\n",
            "SafetyEquipmentDescription_OCCUPANT UNKNOWN\n",
            "SafetyEquipmentDescription_AIR BAG DEPLOYED\n",
            "SafetyEquipmentDescription_CHILD IN VEHICLE NOT USED\n",
            "SafetyEquipmentDescription_CHILD RESTRAINT IN VEHICLE IMPROPER_USE\n",
            "SafetyEquipmentDescription_CHILD RESTRAINT NONE IN VEHICLE\n",
            "SafetyEquipmentDescription_MOTOR BICYCLE PASSENGER NO HELMET\n",
            "SobrietyDrugPhysicalDescription1_HAD NOT BEEN DRINKING\n",
            "SobrietyDrugPhysicalDescription1_HBD-IMPAIRMENT UNKNOWN\n",
            "SobrietyDrugPhysicalDescription1_HBD-NOT UNDER INFLUENCE\n",
            "SobrietyDrugPhysicalDescription1_HBD-UNDER INFLUENCE\n",
            "SobrietyDrugPhysicalDescription1_IMPAIRMENT_NOT_KNOWN\n",
            "SobrietyDrugPhysicalDescription1_NOT APPLICABLE\n",
            "SobrietyDrugPhysicalDescription1_SLEEPY/FATIGUED\n",
            "SobrietyDrugPhysicalDescription1_IMPAIRMENT-PHYSICAL\n",
            "SobrietyDrugPhysicalDescription1_UNDER_DRUG_INFLUENCE\n",
            "SpecialInformation_CELL PHONE HANDHELD IN USE\n",
            "SpecialInformation_CELL PHONE HANDSFREE IN USE\n",
            "SpecialInformation_CELL PHONE NOT IN USE / SCHOOL BUS RELATED\n",
            "SpecialInformation_CELL PHONE NOT IN USE\n",
            "SpecialInformation_CELL PHONE USE UNKNOWN\n",
            "SpecialInformation_HAZARDOUS MATERIAL / CELL PHONE NOT IN USE\n",
            "SpecialInformation_HAZARDOUS MATERIAL\n",
            "SpecialInformation_CELL PHONE NOT IN USE / CELL PHONE USE UNKNOWN\n",
            "SpecialInformation_CELL PHONE USE UNKNOWN / SCHOOL BUS RELATED\n",
            "SpecialInformation_HAZARDOUS MATERIAL / CELL PHONE HANDSFREE IN USE\n",
            "SpecialInformation_HAZARDOUS MATERIAL / CELL PHONE USE UNKNOWN\n",
            "SpecialInformation_SCHOOL BUS RELATED\n"
          ]
        }
      ]
    },
    {
      "cell_type": "code",
      "source": [
        "# Check final shapes\n",
        "print(f'Train: {train_copy.shape}')\n",
        "print(f'Val: {val_copy.shape}')\n",
        "print(f'Test: {test_copy.shape}')"
      ],
      "metadata": {
        "colab": {
          "base_uri": "https://localhost:8080/"
        },
        "id": "uwsuV7L-14G0",
        "outputId": "37a791a2-95d0-45e9-c377-3bf9566ad560"
      },
      "execution_count": 87,
      "outputs": [
        {
          "output_type": "stream",
          "name": "stdout",
          "text": [
            "Train: (218338, 458)\n",
            "Val: (54585, 458)\n",
            "Test: (103669, 458)\n"
          ]
        }
      ]
    },
    {
      "cell_type": "markdown",
      "source": [
        "### 6 - Store processed data into CSV files"
      ],
      "metadata": {
        "id": "uhfVe9E92QzV"
      }
    },
    {
      "cell_type": "code",
      "source": [
        "train_copy.to_csv(\"train_final.csv\", index=False)\n",
        "val_copy.to_csv(\"val_final.csv\", index=False)\n",
        "test_copy.to_csv(\"test_final.csv\", index=False)"
      ],
      "metadata": {
        "id": "acZXQQP92Qar"
      },
      "execution_count": 89,
      "outputs": []
    },
    {
      "cell_type": "markdown",
      "source": [
        "##### Move files into new final data folder"
      ],
      "metadata": {
        "id": "MTrDzVtR4t9g"
      }
    },
    {
      "cell_type": "code",
      "source": [
        "!mkdir -p /content/ds_207_final_project/data/final\n",
        "!mv /content/ds_207_final_project/data/processed/train_final.csv \\\n",
        "     /content/ds_207_final_project/data/processed/val_final.csv \\\n",
        "     /content/ds_207_final_project/data/processed/test_final.csv \\\n",
        "     /content/ds_207_final_project/data/final/"
      ],
      "metadata": {
        "id": "Sh2PIHUh3SnD"
      },
      "execution_count": 93,
      "outputs": []
    },
    {
      "cell_type": "code",
      "source": [
        "!ls"
      ],
      "metadata": {
        "colab": {
          "base_uri": "https://localhost:8080/"
        },
        "id": "L2SKGbfx3IHY",
        "outputId": "b45aab44-7cc5-44d8-af6d-86cb344546fc"
      },
      "execution_count": 94,
      "outputs": [
        {
          "output_type": "stream",
          "name": "stdout",
          "text": [
            "ds_207_final_project  final_merged_2024.csv  final_merged_2025.csv\n"
          ]
        }
      ]
    },
    {
      "cell_type": "markdown",
      "source": [
        "##### Change to final data directory and ensure files made it"
      ],
      "metadata": {
        "id": "Fzs5dKJQ4yVt"
      }
    },
    {
      "cell_type": "code",
      "source": [
        "%cd /content/ds_207_final_project/data/final"
      ],
      "metadata": {
        "colab": {
          "base_uri": "https://localhost:8080/"
        },
        "id": "VXgh5lQ93_6K",
        "outputId": "3acf164a-8f6c-470b-d916-16d17b83ec04"
      },
      "execution_count": 97,
      "outputs": [
        {
          "output_type": "stream",
          "name": "stdout",
          "text": [
            "/content/ds_207_final_project/data/final\n"
          ]
        }
      ]
    },
    {
      "cell_type": "code",
      "source": [
        "!ls"
      ],
      "metadata": {
        "colab": {
          "base_uri": "https://localhost:8080/"
        },
        "id": "OzkpGh0Z4GTV",
        "outputId": "d7937275-2433-4a29-9f87-3dea876e645b"
      },
      "execution_count": 98,
      "outputs": [
        {
          "output_type": "stream",
          "name": "stdout",
          "text": [
            "test_final.csv\ttrain_final.csv  val_final.csv\n"
          ]
        }
      ]
    },
    {
      "cell_type": "markdown",
      "source": [
        "###7 - Push new folder with files to GitHub"
      ],
      "metadata": {
        "id": "mGJqptmG4dUD"
      }
    },
    {
      "cell_type": "markdown",
      "source": [
        "##### Switch to top level of repo and check status"
      ],
      "metadata": {
        "id": "YsX7_6MP467f"
      }
    },
    {
      "cell_type": "code",
      "source": [
        "%cd /content/ds_207_final_project"
      ],
      "metadata": {
        "colab": {
          "base_uri": "https://localhost:8080/"
        },
        "id": "rIE0_8895D_d",
        "outputId": "54e8993b-8beb-4c12-ff02-0d9d448d85d1"
      },
      "execution_count": 100,
      "outputs": [
        {
          "output_type": "stream",
          "name": "stdout",
          "text": [
            "/content/ds_207_final_project\n"
          ]
        }
      ]
    },
    {
      "cell_type": "code",
      "source": [
        "!git status"
      ],
      "metadata": {
        "colab": {
          "base_uri": "https://localhost:8080/"
        },
        "id": "Rxu7Uhh-4hMO",
        "outputId": "12fb230f-3a2a-4c35-ccc2-f92f5a44d04b"
      },
      "execution_count": 101,
      "outputs": [
        {
          "output_type": "stream",
          "name": "stdout",
          "text": [
            "On branch main\n",
            "Your branch is up to date with 'origin/main'.\n",
            "\n",
            "Untracked files:\n",
            "  (use \"git add <file>...\" to include in what will be committed)\n",
            "\t\u001b[31mdata/final/\u001b[m\n",
            "\t\u001b[31mdata/processed/ds_207_final_project/\u001b[m\n",
            "\n",
            "nothing added to commit but untracked files present (use \"git add\" to track)\n"
          ]
        }
      ]
    },
    {
      "cell_type": "markdown",
      "source": [
        "##### Stage, Commit, Push"
      ],
      "metadata": {
        "id": "X_1kQno75P4L"
      }
    },
    {
      "cell_type": "code",
      "source": [
        "!git add data/final"
      ],
      "metadata": {
        "id": "OJz0p0Fy4iiN"
      },
      "execution_count": 102,
      "outputs": []
    },
    {
      "cell_type": "code",
      "source": [
        "!git status"
      ],
      "metadata": {
        "colab": {
          "base_uri": "https://localhost:8080/"
        },
        "id": "zVBiPydF5rsa",
        "outputId": "572540cb-2fc4-4a98-ab98-a09f1ccd4e22"
      },
      "execution_count": 103,
      "outputs": [
        {
          "output_type": "stream",
          "name": "stdout",
          "text": [
            "On branch main\n",
            "Your branch is up to date with 'origin/main'.\n",
            "\n",
            "Changes to be committed:\n",
            "  (use \"git restore --staged <file>...\" to unstage)\n",
            "\t\u001b[32mnew file:   data/final/test_final.csv\u001b[m\n",
            "\t\u001b[32mnew file:   data/final/train_final.csv\u001b[m\n",
            "\t\u001b[32mnew file:   data/final/val_final.csv\u001b[m\n",
            "\n",
            "Untracked files:\n",
            "  (use \"git add <file>...\" to include in what will be committed)\n",
            "\t\u001b[31mdata/processed/ds_207_final_project/\u001b[m\n",
            "\n"
          ]
        }
      ]
    },
    {
      "cell_type": "code",
      "source": [
        "!git config user.email \"oviya.adhan@gmail.com\"\n",
        "!git config user.name \"oadhan\""
      ],
      "metadata": {
        "id": "7IUFgQez5-I5"
      },
      "execution_count": 105,
      "outputs": []
    },
    {
      "cell_type": "code",
      "source": [
        "!git commit -m \"Add final processed train, val, test data in CSVs\""
      ],
      "metadata": {
        "colab": {
          "base_uri": "https://localhost:8080/"
        },
        "id": "M_Ryb_795utU",
        "outputId": "ead1df2f-04a6-4794-b5a8-28d1699632fc"
      },
      "execution_count": 106,
      "outputs": [
        {
          "output_type": "stream",
          "name": "stdout",
          "text": [
            "[main 7d74229] Add final processed train, val, test data in CSVs\n",
            " 3 files changed, 376595 insertions(+)\n",
            " create mode 100644 data/final/test_final.csv\n",
            " create mode 100644 data/final/train_final.csv\n",
            " create mode 100644 data/final/val_final.csv\n"
          ]
        }
      ]
    },
    {
      "cell_type": "code",
      "source": [
        "!git push"
      ],
      "metadata": {
        "colab": {
          "base_uri": "https://localhost:8080/"
        },
        "id": "4fVMhSaU6M_w",
        "outputId": "2a2b2b5f-334d-4cce-c2ee-d1c585e368d1"
      },
      "execution_count": 107,
      "outputs": [
        {
          "output_type": "stream",
          "name": "stdout",
          "text": [
            "Enumerating objects: 9, done.\n",
            "Counting objects:  11% (1/9)\rCounting objects:  22% (2/9)\rCounting objects:  33% (3/9)\rCounting objects:  44% (4/9)\rCounting objects:  55% (5/9)\rCounting objects:  66% (6/9)\rCounting objects:  77% (7/9)\rCounting objects:  88% (8/9)\rCounting objects: 100% (9/9)\rCounting objects: 100% (9/9), done.\n",
            "Delta compression using up to 2 threads\n",
            "Compressing objects: 100% (7/7), done.\n",
            "Writing objects: 100% (7/7), 4.97 MiB | 863.00 KiB/s, done.\n",
            "Total 7 (delta 3), reused 0 (delta 0), pack-reused 0\n",
            "remote: Resolving deltas: 100% (3/3), completed with 2 local objects.\u001b[K\n",
            "remote: \u001b[1;33mwarning\u001b[m: File data/final/test_final.csv is 92.95 MB; this is larger than GitHub's recommended maximum file size of 50.00 MB\u001b[K\n",
            "remote: \u001b[1;31merror\u001b[m: Trace: eabaa8bb11344ddd5243478f31914a63b5b0fadf1ac0f351a08c843354d87e4b\u001b[K\n",
            "remote: \u001b[1;31merror\u001b[m: See https://gh.io/lfs for more information.\u001b[K\n",
            "remote: \u001b[1;31merror\u001b[m: File data/final/train_final.csv is 195.74 MB; this exceeds GitHub's file size limit of 100.00 MB\u001b[K\n",
            "remote: \u001b[1;31merror\u001b[m: GH001: Large files detected. You may want to try Git Large File Storage - https://git-lfs.github.com.\u001b[K\n",
            "To https://github.com/christinesako-berk/ds_207_final_project.git\n",
            " \u001b[31m! [remote rejected]\u001b[m main -> main (pre-receive hook declined)\n",
            "\u001b[31merror: failed to push some refs to 'https://github.com/christinesako-berk/ds_207_final_project.git'\n",
            "\u001b[m"
          ]
        }
      ]
    },
    {
      "cell_type": "markdown",
      "source": [
        "See above: data files are too large for GitHub as is\n",
        "\n",
        "Detour: Save files locally"
      ],
      "metadata": {
        "id": "L2Eub-M478U4"
      }
    },
    {
      "cell_type": "code",
      "source": [
        "from google.colab import drive\n",
        "drive.mount('/content/drive')\n"
      ],
      "metadata": {
        "colab": {
          "base_uri": "https://localhost:8080/"
        },
        "id": "i1GvX-nw6_sf",
        "outputId": "39b56e64-4da8-43ac-cdf2-aeaf6772ea64"
      },
      "execution_count": 108,
      "outputs": [
        {
          "output_type": "stream",
          "name": "stdout",
          "text": [
            "Mounted at /content/drive\n"
          ]
        }
      ]
    },
    {
      "cell_type": "code",
      "source": [
        "!mkdir -p \"/content/drive/My Drive/DATASCI 207 - Applied Machine Learning/Final Project/data/\""
      ],
      "metadata": {
        "id": "hQwosyNC7Z_4"
      },
      "execution_count": 109,
      "outputs": []
    },
    {
      "cell_type": "code",
      "source": [
        "!cp -r /content/ds_207_final_project/data/final/* \"/content/drive/My Drive/DATASCI 207 - Applied Machine Learning/Final Project/data/\""
      ],
      "metadata": {
        "id": "XN1HI6t27bHg"
      },
      "execution_count": 110,
      "outputs": []
    },
    {
      "cell_type": "code",
      "source": [
        "%cd /content/ds_207_final_project/data/final/"
      ],
      "metadata": {
        "colab": {
          "base_uri": "https://localhost:8080/"
        },
        "id": "lVWK4XnG7jvW",
        "outputId": "8df782c0-a613-426f-c92d-7d6e6f38291d"
      },
      "execution_count": 115,
      "outputs": [
        {
          "output_type": "stream",
          "name": "stdout",
          "text": [
            "/content/ds_207_final_project/data/final\n"
          ]
        }
      ]
    },
    {
      "cell_type": "code",
      "source": [
        "!ls"
      ],
      "metadata": {
        "colab": {
          "base_uri": "https://localhost:8080/"
        },
        "id": "D1n6Qyi_7nYN",
        "outputId": "1de52600-ca19-4304-ee74-84089ba5734e"
      },
      "execution_count": 116,
      "outputs": [
        {
          "output_type": "stream",
          "name": "stdout",
          "text": [
            "test_final.csv\ttrain_final.csv  val_final.csv\n"
          ]
        }
      ]
    },
    {
      "cell_type": "markdown",
      "source": [
        "Compress files and push to Git"
      ],
      "metadata": {
        "id": "Xxi5PHXN7_x-"
      }
    },
    {
      "cell_type": "code",
      "source": [
        "%cd /content/ds_207_final_project/data/"
      ],
      "metadata": {
        "colab": {
          "base_uri": "https://localhost:8080/"
        },
        "id": "NLAU2wFr8aNf",
        "outputId": "9cef0289-725e-40d2-d17e-3a2da30d53da"
      },
      "execution_count": 118,
      "outputs": [
        {
          "output_type": "stream",
          "name": "stdout",
          "text": [
            "/content/ds_207_final_project/data\n"
          ]
        }
      ]
    },
    {
      "cell_type": "code",
      "source": [
        "!ls"
      ],
      "metadata": {
        "colab": {
          "base_uri": "https://localhost:8080/"
        },
        "id": "ZgWQtnfy8eFr",
        "outputId": "2fbe0fb5-ff83-4bac-faf0-294dc5974e14"
      },
      "execution_count": 119,
      "outputs": [
        {
          "output_type": "stream",
          "name": "stdout",
          "text": [
            "ccrs_template.docx  final  processed  raw\n"
          ]
        }
      ]
    },
    {
      "cell_type": "code",
      "source": [
        "!tar -czvf final_data.tar.gz final/"
      ],
      "metadata": {
        "colab": {
          "base_uri": "https://localhost:8080/"
        },
        "id": "G4gViVk38REi",
        "outputId": "dfe960aa-8e21-4517-d73e-f175703810cb"
      },
      "execution_count": 120,
      "outputs": [
        {
          "output_type": "stream",
          "name": "stdout",
          "text": [
            "final/\n",
            "final/val_final.csv\n",
            "final/test_final.csv\n",
            "final/train_final.csv\n"
          ]
        }
      ]
    },
    {
      "cell_type": "code",
      "source": [
        "!mv /content/ds_207_final_project/data/final_data.tar.gz \\\n",
        "     /content/ds_207_final_project/data/final/"
      ],
      "metadata": {
        "id": "wy2ByR1U8lIe"
      },
      "execution_count": 122,
      "outputs": []
    },
    {
      "cell_type": "code",
      "source": [
        "%cd /content/ds_207_final_project/"
      ],
      "metadata": {
        "colab": {
          "base_uri": "https://localhost:8080/"
        },
        "id": "dZfhAwLH9qZy",
        "outputId": "abb21248-42b8-4279-d283-aafd92cb33e8"
      },
      "execution_count": 125,
      "outputs": [
        {
          "output_type": "stream",
          "name": "stdout",
          "text": [
            "/content/ds_207_final_project\n"
          ]
        }
      ]
    },
    {
      "cell_type": "code",
      "source": [
        "!git status"
      ],
      "metadata": {
        "colab": {
          "base_uri": "https://localhost:8080/"
        },
        "id": "fycZrEXR9YMo",
        "outputId": "57e72ca8-f7a6-42a8-c2a8-e7e51242d29b"
      },
      "execution_count": 126,
      "outputs": [
        {
          "output_type": "stream",
          "name": "stdout",
          "text": [
            "On branch main\n",
            "Your branch is ahead of 'origin/main' by 1 commit.\n",
            "  (use \"git push\" to publish your local commits)\n",
            "\n",
            "Untracked files:\n",
            "  (use \"git add <file>...\" to include in what will be committed)\n",
            "\t\u001b[31mdata/final/final_data.tar.gz\u001b[m\n",
            "\t\u001b[31mdata/processed/ds_207_final_project/\u001b[m\n",
            "\n",
            "nothing added to commit but untracked files present (use \"git add\" to track)\n"
          ]
        }
      ]
    },
    {
      "cell_type": "code",
      "source": [
        "%cd /content/ds_207_final_project/data"
      ],
      "metadata": {
        "colab": {
          "base_uri": "https://localhost:8080/"
        },
        "id": "uVkHlKKkAKmd",
        "outputId": "06082567-4b4c-4fa7-b8a3-840fa7904056"
      },
      "execution_count": 153,
      "outputs": [
        {
          "output_type": "stream",
          "name": "stdout",
          "text": [
            "/content/ds_207_final_project/data\n"
          ]
        }
      ]
    },
    {
      "cell_type": "code",
      "source": [
        "!git add final/final_data.tar.gz"
      ],
      "metadata": {
        "id": "1Ywg5KK5AdqV"
      },
      "execution_count": 155,
      "outputs": []
    },
    {
      "cell_type": "code",
      "source": [
        "!git commit -m \"Adding final processed train, val, test CSVs as a compressed tar file\""
      ],
      "metadata": {
        "colab": {
          "base_uri": "https://localhost:8080/"
        },
        "id": "DOGzzWSdA7pM",
        "outputId": "931283c0-7f44-41fc-c167-d30058a07bea"
      },
      "execution_count": 157,
      "outputs": [
        {
          "output_type": "stream",
          "name": "stdout",
          "text": [
            "[main 33c3e8d] Adding final processed train, val, test CSVs as a compressed tar file\n",
            " 1 file changed, 0 insertions(+), 0 deletions(-)\n",
            " create mode 100644 data/final/final_data.tar.gz\n"
          ]
        }
      ]
    },
    {
      "cell_type": "code",
      "source": [
        "!git status"
      ],
      "metadata": {
        "colab": {
          "base_uri": "https://localhost:8080/"
        },
        "id": "ct-Cpsa2AtY-",
        "outputId": "2b32c457-f4ff-4881-c5eb-1aa4f03b67a1"
      },
      "execution_count": 165,
      "outputs": [
        {
          "output_type": "stream",
          "name": "stdout",
          "text": [
            "On branch main\n",
            "Your branch is ahead of 'origin/main' by 1 commit.\n",
            "  (use \"git push\" to publish your local commits)\n",
            "\n",
            "Untracked files:\n",
            "  (use \"git add <file>...\" to include in what will be committed)\n",
            "\t\u001b[31mfinal/test_final.csv\u001b[m\n",
            "\t\u001b[31mfinal/train_final.csv\u001b[m\n",
            "\t\u001b[31mfinal/val_final.csv\u001b[m\n",
            "\t\u001b[31mprocessed/ds_207_final_project/\u001b[m\n",
            "\n",
            "nothing added to commit but untracked files present (use \"git add\" to track)\n"
          ]
        }
      ]
    },
    {
      "cell_type": "code",
      "source": [
        "!git push"
      ],
      "metadata": {
        "colab": {
          "base_uri": "https://localhost:8080/"
        },
        "id": "N-ZLBgXcB6x4",
        "outputId": "05d17352-0b4c-4b96-c6e5-c872b49781cd"
      },
      "execution_count": 166,
      "outputs": [
        {
          "output_type": "stream",
          "name": "stdout",
          "text": [
            "Enumerating objects: 7, done.\n",
            "Counting objects:  14% (1/7)\rCounting objects:  28% (2/7)\rCounting objects:  42% (3/7)\rCounting objects:  57% (4/7)\rCounting objects:  71% (5/7)\rCounting objects:  85% (6/7)\rCounting objects: 100% (7/7)\rCounting objects: 100% (7/7), done.\n",
            "Delta compression using up to 2 threads\n",
            "Compressing objects: 100% (4/4), done.\n",
            "Writing objects: 100% (5/5), 5.04 MiB | 8.00 MiB/s, done.\n",
            "Total 5 (delta 2), reused 0 (delta 0), pack-reused 0\n",
            "remote: Resolving deltas: 100% (2/2), completed with 2 local objects.\u001b[K\n",
            "To https://github.com/christinesako-berk/ds_207_final_project.git\n",
            "   deaa594..d0c6588  main -> main\n"
          ]
        }
      ]
    }
  ]
}