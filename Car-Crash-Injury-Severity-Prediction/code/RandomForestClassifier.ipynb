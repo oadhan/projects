{
  "cells": [
    {
      "cell_type": "code",
      "execution_count": 10,
      "metadata": {
        "id": "BVlLYvVDIcwc"
      },
      "outputs": [],
      "source": [
        "# Import libraries\n",
        "import numpy as np\n",
        "import pandas as pd\n",
        "from sklearn.preprocessing import LabelEncoder, StandardScaler\n",
        "from sklearn.model_selection import StratifiedKFold\n",
        "from sklearn.ensemble import RandomForestClassifier\n",
        "from sklearn.metrics import f1_score, accuracy_score\n",
        "from sklearn.decomposition import PCA\n",
        "from imblearn.pipeline import Pipeline\n",
        "from imblearn.over_sampling import SMOTE\n",
        "from itertools import product\n",
        "import ast\n",
        "from collections import Counter\n",
        "from sklearn.metrics import classification_report\n",
        "\n",
        "\n",
        "# https://github.com/christinesako-berk/ds_207_final_project/blob/main/final_processing.ipynb OVIYA'S SAMPLE"
      ]
    },
    {
      "cell_type": "code",
      "execution_count": null,
      "metadata": {
        "colab": {
          "base_uri": "https://localhost:8080/"
        },
        "id": "Hq-Gnk_AIiK8",
        "outputId": "140d1afe-dd6d-4319-bf64-8939db530736"
      },
      "outputs": [
        {
          "name": "stdout",
          "output_type": "stream",
          "text": [
            "/content/ds_207_final_project/data/processed\n"
          ]
        }
      ],
      "source": [
        "%cd /content/ds_207_final_project/data/processed"
      ]
    },
    {
      "cell_type": "code",
      "execution_count": null,
      "metadata": {
        "colab": {
          "base_uri": "https://localhost:8080/"
        },
        "id": "jV8G6RBdIiNy",
        "outputId": "954b159a-9de2-4ad8-f6f5-4c6760ed6d13"
      },
      "outputs": [
        {
          "name": "stdout",
          "output_type": "stream",
          "text": [
            "final_merged_2024.csv  final_merged_2025.csv\n"
          ]
        }
      ],
      "source": [
        "!ls"
      ]
    },
    {
      "cell_type": "code",
      "execution_count": 2,
      "metadata": {
        "colab": {
          "base_uri": "https://localhost:8080/"
        },
        "id": "4UIemx0JJ3Kb",
        "outputId": "83a62467-e7db-4f28-9b72-d858ad9d7cb4"
      },
      "outputs": [
        {
          "output_type": "stream",
          "name": "stdout",
          "text": [
            "Mounted at /content/drive\n"
          ]
        }
      ],
      "source": [
        "### Mount Google Drive\n",
        "from google.colab import drive\n",
        "drive.mount('/content/drive')\n",
        "\n",
        "\n",
        "test_file = '/content/drive/My Drive/data/test_final.csv'\n",
        "val_file = '/content/drive/My Drive/data/val_final.csv'\n",
        "train_file = '/content/drive/My Drive/data/train_final.csv'\n"
      ]
    },
    {
      "cell_type": "code",
      "execution_count": 3,
      "metadata": {
        "id": "m7YO5N-CMCvu"
      },
      "outputs": [],
      "source": [
        "test = pd.read_csv(test_file)\n",
        "val = pd.read_csv(val_file)\n",
        "train = pd.read_csv(train_file)"
      ]
    },
    {
      "cell_type": "code",
      "execution_count": null,
      "metadata": {
        "colab": {
          "base_uri": "https://localhost:8080/"
        },
        "id": "fNv11ccHUl3S",
        "outputId": "19c8e7c5-4fd2-4120-b9f2-8d2802f29841"
      },
      "outputs": [
        {
          "data": {
            "text/plain": [
              "(103669, 458)"
            ]
          },
          "execution_count": 5,
          "metadata": {},
          "output_type": "execute_result"
        }
      ],
      "source": [
        "test.shape"
      ]
    },
    {
      "cell_type": "code",
      "execution_count": null,
      "metadata": {
        "colab": {
          "base_uri": "https://localhost:8080/"
        },
        "id": "p2lpwv0qUrsT",
        "outputId": "76b129a7-04f6-4917-ed8c-a83fce0c0d0d"
      },
      "outputs": [
        {
          "data": {
            "text/plain": [
              "(54585, 458)"
            ]
          },
          "execution_count": 6,
          "metadata": {},
          "output_type": "execute_result"
        }
      ],
      "source": [
        "val.shape"
      ]
    },
    {
      "cell_type": "code",
      "execution_count": null,
      "metadata": {
        "colab": {
          "base_uri": "https://localhost:8080/"
        },
        "id": "FayxajglUuBf",
        "outputId": "092beabe-7694-4a76-a023-60b6d8c3da38"
      },
      "outputs": [
        {
          "data": {
            "text/plain": [
              "(218338, 458)"
            ]
          },
          "execution_count": 7,
          "metadata": {},
          "output_type": "execute_result"
        }
      ],
      "source": [
        "train.shape"
      ]
    },
    {
      "cell_type": "code",
      "execution_count": null,
      "metadata": {
        "colab": {
          "base_uri": "https://localhost:8080/",
          "height": 241
        },
        "id": "ZpyXdJpb5Jxv",
        "outputId": "3329c1c6-cd66-49f3-80d8-556765c8a900"
      },
      "outputs": [
        {
          "data": {
            "text/html": [
              "<div>\n",
              "<style scoped>\n",
              "    .dataframe tbody tr th:only-of-type {\n",
              "        vertical-align: middle;\n",
              "    }\n",
              "\n",
              "    .dataframe tbody tr th {\n",
              "        vertical-align: top;\n",
              "    }\n",
              "\n",
              "    .dataframe thead th {\n",
              "        text-align: right;\n",
              "    }\n",
              "</style>\n",
              "<table border=\"1\" class=\"dataframe\">\n",
              "  <thead>\n",
              "    <tr style=\"text-align: right;\">\n",
              "      <th></th>\n",
              "      <th>count</th>\n",
              "    </tr>\n",
              "    <tr>\n",
              "      <th>ExtentOfInjuryCode</th>\n",
              "      <th></th>\n",
              "    </tr>\n",
              "  </thead>\n",
              "  <tbody>\n",
              "    <tr>\n",
              "      <th>No Injury</th>\n",
              "      <td>134059</td>\n",
              "    </tr>\n",
              "    <tr>\n",
              "      <th>Minor</th>\n",
              "      <td>76242</td>\n",
              "    </tr>\n",
              "    <tr>\n",
              "      <th>Serious</th>\n",
              "      <td>6385</td>\n",
              "    </tr>\n",
              "    <tr>\n",
              "      <th>Fatal</th>\n",
              "      <td>1652</td>\n",
              "    </tr>\n",
              "  </tbody>\n",
              "</table>\n",
              "</div><br><label><b>dtype:</b> int64</label>"
            ],
            "text/plain": [
              "ExtentOfInjuryCode\n",
              "No Injury    134059\n",
              "Minor         76242\n",
              "Serious        6385\n",
              "Fatal          1652\n",
              "Name: count, dtype: int64"
            ]
          },
          "execution_count": 8,
          "metadata": {},
          "output_type": "execute_result"
        }
      ],
      "source": [
        "train[\"ExtentOfInjuryCode\"].value_counts()"
      ]
    },
    {
      "cell_type": "markdown",
      "metadata": {
        "id": "BtzF9QJEx1QA"
      },
      "source": [
        "# EDA Assistance"
      ]
    },
    {
      "cell_type": "code",
      "execution_count": null,
      "metadata": {
        "id": "lQ0yY--_x1Bd"
      },
      "outputs": [],
      "source": [
        "chunks = pd.read_csv(\"final_merged_2024.csv\", chunksize=10000, engine=\"python\", on_bad_lines='skip')\n",
        "df = pd.concat(chunks, ignore_index=True)\n",
        "\n",
        "Y = df[[\"ExtentOfInjuryCode\"]]\n",
        "X = df[[\"CollisionTypeDescription\", \"IsHighwayRelated\", \"Weather1\", \"RoadCondition1\",\n",
        "        \"LightingDescription\", \"MovementPrecCollDescription\", \"AirbagDescription\",\n",
        "        \"SafetyEquipmentDescription\", \"SobrietyDrugPhysicalDescription1\", \"SpeedLimit\",\n",
        "        \"SpecialInformation\"]]\n",
        "\n",
        "X_train, X_val, Y_train, Y_val = train_test_split(X, Y, test_size=0.2, random_state=1234)"
      ]
    },
    {
      "cell_type": "code",
      "execution_count": null,
      "metadata": {
        "id": "Cm5NW8E8yCrW"
      },
      "outputs": [],
      "source": [
        "def extract_flattened_values(column):\n",
        "  vals = []\n",
        "  for val in X_train[\"MovementPrecCollDescription\"]:\n",
        "    if pd.isna(val):\n",
        "      continue\n",
        "    else:\n",
        "      parsed = ast.literal_eval(val)\n",
        "      if len(parsed) > 1:\n",
        "        for v in parsed:\n",
        "          vals.append(v)\n",
        "      else:\n",
        "        vals.append(parsed[0])\n",
        "  return vals"
      ]
    },
    {
      "cell_type": "code",
      "execution_count": null,
      "metadata": {
        "id": "Lfj0KSPcyUJm"
      },
      "outputs": [],
      "source": [
        "def plot_top_n_hist(column_data, title, top_n=10):\n",
        "    flattened_vals = extract_flattened_values(column_data)\n",
        "    val_counts = Counter(flattened_vals).most_common(top_n)\n",
        "\n",
        "    labels, counts = zip(*val_counts)\n",
        "\n",
        "    plt.figure(figsize=(10, 6))\n",
        "    plt.bar(labels, counts)\n",
        "    plt.xticks(rotation=45, ha='right')\n",
        "    plt.title(f\"Count of Values in {title}\")\n",
        "    plt.xlabel(f\"{title} Value\")\n",
        "    plt.ylabel(\"Frequency\")\n",
        "    plt.tight_layout()\n",
        "    plt.show()\n",
        "\n",
        "flattened_vals = extract_flattened_values(\"MovementPrecCollDescription\")\n",
        "plot_top_n_hist(X_train[\"MovementPrecCollDescription\"], \"MovementPrecCollDescription\", top_n=len(set(flattened_vals)))"
      ]
    },
    {
      "cell_type": "code",
      "execution_count": null,
      "metadata": {
        "id": "cPgbs_XuyUCi"
      },
      "outputs": [],
      "source": [
        "import seaborn as sns\n",
        "sns.boxplot(x='ExtentOfInjuryCode', y='SpeedLimit', data=pd.concat([X_train, Y_train], axis=1))\n",
        "plt.title(\"Boxplot of Rating by Cocoa Level: 0=Low, 1=Medium, and 2=High\")\n",
        "plt.xlabel(\"Cocoa Level\")\n",
        "plt.ylabel(\"Chocolate Rating\")\n",
        "plt.show()\n",
        "print(\"The boxplot of chocolate rating by cocoa level demonstrates that rating alone\\n\\\n",
        "would be a difficult metric to distinguish the cocoa level groups, given that the\\n\\\n",
        "distribution of ratings are around the same values.\")"
      ]
    },
    {
      "cell_type": "code",
      "execution_count": null,
      "metadata": {
        "id": "66o67RV6yT6C"
      },
      "outputs": [],
      "source": []
    },
    {
      "cell_type": "code",
      "execution_count": null,
      "metadata": {
        "id": "7EpVwc21yjI3"
      },
      "outputs": [],
      "source": []
    },
    {
      "cell_type": "markdown",
      "metadata": {
        "id": "sKkM7j3bykLT"
      },
      "source": [
        "# Random Forest Model"
      ]
    },
    {
      "cell_type": "markdown",
      "metadata": {
        "id": "YZnTGXGtT5LE"
      },
      "source": [
        "## Loop Tuning - Randomized Grid"
      ]
    },
    {
      "cell_type": "code",
      "execution_count": 5,
      "metadata": {
        "colab": {
          "base_uri": "https://localhost:8080/"
        },
        "id": "-aQqEupdzY7J",
        "outputId": "7338d921-cd8a-4de6-a563-dcf8b6486cfa"
      },
      "outputs": [
        {
          "metadata": {
            "tags": null
          },
          "name": "stdout",
          "output_type": "stream",
          "text": [
            "Tested config: {'n_estimators': np.int64(110), 'max_depth': np.int64(35), 'min_samples_split': 5, 'min_samples_leaf': 1, 'max_features': 'sqrt', 'use_pca': False, 'n_components': None}\n",
            "Macro F1: 0.4374 | Accuracy: 0.6478\n",
            "   - F1 [Fatal]: 0.2689\n",
            "   - F1 [Minor]: 0.5478\n",
            "   - F1 [No Injury]: 0.7525\n",
            "   - F1 [Serious]: 0.1805\n",
            "oooooOOOOOoooooOOOOOOoooOOOOOOoooooOOOOOOOooooOOOOOOoooooOOOOO\n",
            "Tested config: {'n_estimators': np.int64(100), 'max_depth': np.int64(25), 'min_samples_split': 5, 'min_samples_leaf': 1, 'max_features': 'sqrt', 'use_pca': False, 'n_components': None}\n",
            "Macro F1: 0.4400 | Accuracy: 0.6414\n",
            "   - F1 [Fatal]: 0.2752\n",
            "   - F1 [Minor]: 0.5433\n",
            "   - F1 [No Injury]: 0.7524\n",
            "   - F1 [Serious]: 0.1891\n",
            "oooooOOOOOoooooOOOOOOoooOOOOOOoooooOOOOOOOooooOOOOOOoooooOOOOO\n",
            "Tested config: {'n_estimators': np.int64(140), 'max_depth': np.int64(25), 'min_samples_split': 5, 'min_samples_leaf': 1, 'max_features': 'sqrt', 'use_pca': False, 'n_components': None}\n",
            "Macro F1: 0.4404 | Accuracy: 0.6420\n",
            "   - F1 [Fatal]: 0.2749\n",
            "   - F1 [Minor]: 0.5440\n",
            "   - F1 [No Injury]: 0.7527\n",
            "   - F1 [Serious]: 0.1902\n",
            "oooooOOOOOoooooOOOOOOoooOOOOOOoooooOOOOOOOooooOOOOOOoooooOOOOO\n",
            "Tested config: {'n_estimators': np.int64(130), 'max_depth': np.int64(35), 'min_samples_split': 5, 'min_samples_leaf': 1, 'max_features': 'sqrt', 'use_pca': False, 'n_components': None}\n",
            "Macro F1: 0.4385 | Accuracy: 0.6480\n",
            "   - F1 [Fatal]: 0.2734\n",
            "   - F1 [Minor]: 0.5483\n",
            "   - F1 [No Injury]: 0.7524\n",
            "   - F1 [Serious]: 0.1801\n",
            "oooooOOOOOoooooOOOOOOoooOOOOOOoooooOOOOOOOooooOOOOOOoooooOOOOO\n",
            "Tested config: {'n_estimators': np.int64(130), 'max_depth': np.int64(30), 'min_samples_split': 5, 'min_samples_leaf': 1, 'max_features': 'sqrt', 'use_pca': False, 'n_components': None}\n",
            "Macro F1: 0.4404 | Accuracy: 0.6467\n",
            "   - F1 [Fatal]: 0.2784\n",
            "   - F1 [Minor]: 0.5469\n",
            "   - F1 [No Injury]: 0.7543\n",
            "   - F1 [Serious]: 0.1822\n",
            "oooooOOOOOoooooOOOOOOoooOOOOOOoooooOOOOOOOooooOOOOOOoooooOOOOO\n",
            "Tested config: {'n_estimators': np.int64(120), 'max_depth': np.int64(20), 'min_samples_split': 5, 'min_samples_leaf': 1, 'max_features': 'sqrt', 'use_pca': False, 'n_components': None}\n",
            "Macro F1: 0.4293 | Accuracy: 0.6296\n",
            "   - F1 [Fatal]: 0.2530\n",
            "   - F1 [Minor]: 0.5292\n",
            "   - F1 [No Injury]: 0.7502\n",
            "   - F1 [Serious]: 0.1846\n",
            "oooooOOOOOoooooOOOOOOoooOOOOOOoooooOOOOOOOooooOOOOOOoooooOOOOO\n",
            "Tested config: {'n_estimators': np.int64(110), 'max_depth': np.int64(30), 'min_samples_split': 5, 'min_samples_leaf': 1, 'max_features': 'sqrt', 'use_pca': False, 'n_components': None}\n",
            "Macro F1: 0.4396 | Accuracy: 0.6463\n",
            "   - F1 [Fatal]: 0.2751\n",
            "   - F1 [Minor]: 0.5469\n",
            "   - F1 [No Injury]: 0.7537\n",
            "   - F1 [Serious]: 0.1825\n",
            "oooooOOOOOoooooOOOOOOoooOOOOOOoooooOOOOOOOooooOOOOOOoooooOOOOO\n",
            "Tested config: {'n_estimators': np.int64(110), 'max_depth': np.int64(25), 'min_samples_split': 5, 'min_samples_leaf': 1, 'max_features': 'sqrt', 'use_pca': False, 'n_components': None}\n",
            "Macro F1: 0.4401 | Accuracy: 0.6418\n",
            "   - F1 [Fatal]: 0.2754\n",
            "   - F1 [Minor]: 0.5434\n",
            "   - F1 [No Injury]: 0.7527\n",
            "   - F1 [Serious]: 0.1891\n",
            "oooooOOOOOoooooOOOOOOoooOOOOOOoooooOOOOOOOooooOOOOOOoooooOOOOO\n",
            "Tested config: {'n_estimators': np.int64(160), 'max_depth': np.int64(35), 'min_samples_split': 5, 'min_samples_leaf': 1, 'max_features': 'sqrt', 'use_pca': False, 'n_components': None}\n",
            "Macro F1: 0.4383 | Accuracy: 0.6478\n",
            "   - F1 [Fatal]: 0.2733\n",
            "   - F1 [Minor]: 0.5476\n",
            "   - F1 [No Injury]: 0.7527\n",
            "   - F1 [Serious]: 0.1795\n",
            "oooooOOOOOoooooOOOOOOoooOOOOOOoooooOOOOOOOooooOOOOOOoooooOOOOO\n",
            "Tested config: {'n_estimators': np.int64(190), 'max_depth': np.int64(30), 'min_samples_split': 5, 'min_samples_leaf': 1, 'max_features': 'sqrt', 'use_pca': False, 'n_components': None}\n",
            "Macro F1: 0.4420 | Accuracy: 0.6476\n",
            "   - F1 [Fatal]: 0.2824\n",
            "   - F1 [Minor]: 0.5472\n",
            "   - F1 [No Injury]: 0.7550\n",
            "   - F1 [Serious]: 0.1834\n",
            "oooooOOOOOoooooOOOOOOoooOOOOOOoooooOOOOOOOooooOOOOOOoooooOOOOO\n",
            "Best configuration (highest F1 for 'Fatal'):\n",
            "{'params': {'n_estimators': np.int64(190), 'max_depth': np.int64(30), 'min_samples_split': 5, 'min_samples_leaf': 1, 'max_features': 'sqrt', 'use_pca': False, 'n_components': None}, 'f1_macro': np.float64(0.4420000021958454), 'accuracy': np.float64(0.6475525920384574), 'f1_classwise': {'Fatal': np.float64(0.28241919954372113), 'Minor': np.float64(0.5471666108978601), 'No Injury': np.float64(0.7550327195492179), 'Serious': np.float64(0.18338147879258224)}}\n"
          ]
        }
      ],
      "source": [
        "import random\n",
        "# concat train and val for k-fold cross validation\n",
        "df = pd.concat([train, val], axis=0).copy()\n",
        "\n",
        "# transform extentofinjurycode to label 0,1,2,3\n",
        "# set X features and Y target for model\n",
        "label_encoder = LabelEncoder()\n",
        "df[\"target\"] = label_encoder.fit_transform(df[\"ExtentOfInjuryCode\"])\n",
        "X = df.drop(columns=[\"ExtentOfInjuryCode\", \"target\"])\n",
        "y = df[\"target\"].values\n",
        "class_names = label_encoder.classes_\n",
        "\n",
        "# grid to explore\n",
        "param_grid = {'n_estimators': np.arange(100, 200, 10),\n",
        "              'max_depth': np.arange(20, 40, 5),\n",
        "              'min_samples_split': [5],\n",
        "              'min_samples_leaf': [1],\n",
        "              'max_features': ['sqrt'],\n",
        "              'use_pca': [False],\n",
        "              'n_components': [None]}\n",
        "\n",
        "# set random grid search\n",
        "all_combinations = list(product(param_grid['n_estimators'],\n",
        "                                param_grid['max_depth'],\n",
        "                                param_grid['min_samples_split'],\n",
        "                                param_grid['min_samples_leaf'],\n",
        "                                param_grid['max_features'],\n",
        "                                param_grid['use_pca']))\n",
        "\n",
        "n_iter = 10\n",
        "random.seed(42)\n",
        "random_combos = random.sample(all_combinations, n_iter)\n",
        "\n",
        "# hyperparameter tuning\n",
        "results = []\n",
        "for combo in random_combos:\n",
        "    n_estimators, max_depth, min_samples_split, min_samples_leaf, max_features, use_pca = combo\n",
        "    pca_components_list = param_grid[\"n_components\"] if use_pca else [None]\n",
        "\n",
        "    for n_components in pca_components_list:\n",
        "        f1_scores = []\n",
        "        acc_scores = []\n",
        "        f1_per_class_all = []\n",
        "\n",
        "        # split data into k folds (3 splits in data)\n",
        "        skf = StratifiedKFold(n_splits=3, shuffle=True, random_state=42)\n",
        "\n",
        "        # run model for each split\n",
        "        for train_idx, val_idx in skf.split(X, y):\n",
        "            X_train, X_val = X.iloc[train_idx], X.iloc[val_idx]\n",
        "            y_train, y_val = y[train_idx], y[val_idx]\n",
        "\n",
        "            # include SMOTE to address class imbalance\n",
        "            steps = [(\"smote\", SMOTE(random_state=42))]\n",
        "            if use_pca:\n",
        "                steps += [(\"scaler\", StandardScaler()), (\"pca\", PCA(n_components=n_components, random_state=42))]\n",
        "\n",
        "            # use combo of parameters above to build classifier\n",
        "            rf = RandomForestClassifier(n_estimators=n_estimators,\n",
        "                                        max_depth=max_depth,\n",
        "                                        min_samples_split=min_samples_split,\n",
        "                                        min_samples_leaf=min_samples_leaf,\n",
        "                                        max_features=max_features,\n",
        "                                        class_weight=\"balanced\",\n",
        "                                        random_state=42,\n",
        "                                        n_jobs=-1)\n",
        "\n",
        "            # pipeline to handle sequence of operations: apply SMOTE, standardizes features and runs PCA, fits random forest\n",
        "            steps.append((\"rf\", rf))\n",
        "            pipeline = Pipeline(steps)\n",
        "            pipeline.fit(X_train, y_train)\n",
        "            preds = pipeline.predict(X_val)\n",
        "\n",
        "            # get macro f1 score and accuracy scores\n",
        "            f1_scores.append(f1_score(y_val, preds, average=\"macro\"))\n",
        "            acc_scores.append(accuracy_score(y_val, preds))\n",
        "\n",
        "            # get f1 by class\n",
        "            f1_per_class = f1_score(y_val, preds, average=None, labels=[0, 1, 2, 3])\n",
        "            f1_per_class_all.append(f1_per_class)\n",
        "\n",
        "        # average macro f1 score and average accuracy across folds\n",
        "        avg_f1 = np.mean(f1_scores)\n",
        "        avg_acc = np.mean(acc_scores)\n",
        "\n",
        "        # average f1 score by class\n",
        "        avg_f1_per_class = np.mean(f1_per_class_all, axis=0)\n",
        "\n",
        "        results.append({\"params\": {\"n_estimators\": n_estimators,\n",
        "                                  \"max_depth\": max_depth,\n",
        "                                  \"min_samples_split\": min_samples_split,\n",
        "                                  \"min_samples_leaf\": min_samples_leaf,\n",
        "                                  \"max_features\": max_features,\n",
        "                                  \"use_pca\": use_pca,\n",
        "                                  \"n_components\": n_components if use_pca else None},\n",
        "                        \"f1_macro\": avg_f1,\n",
        "                        \"accuracy\": avg_acc,\n",
        "                        \"f1_classwise\": dict(zip(class_names, avg_f1_per_class))})\n",
        "\n",
        "        print(f\"Tested config: {results[-1]['params']}\")\n",
        "        print(f\"Macro F1: {avg_f1:.4f} | Accuracy: {avg_acc:.4f}\")\n",
        "        for class_label, score in zip(class_names, avg_f1_per_class):\n",
        "            print(f\"   - F1 [{class_label}]: {score:.4f}\")\n",
        "        print(\"oooooOOOOOoooooOOOOOOoooOOOOOOoooooOOOOOOOooooOOOOOOoooooOOOOO\")\n",
        "\n",
        "# get best results from model\n",
        "results = sorted(results, key=lambda x: x[\"f1_classwise\"][\"Fatal\"], reverse=True)\n",
        "print(\"Best configuration (highest F1 for 'Fatal'):\")\n",
        "print(results[0])\n"
      ]
    },
    {
      "cell_type": "markdown",
      "source": [
        "## Run on Test"
      ],
      "metadata": {
        "id": "SwAhgkgAxOra"
      }
    },
    {
      "cell_type": "code",
      "source": [
        "best_params = results[0][\"params\"]\n",
        "use_pca = best_params[\"use_pca\"]\n",
        "n_components = best_params[\"n_components\"]\n",
        "\n",
        "# prepare data to run\n",
        "X_full = X.copy()\n",
        "y_full = y.copy()\n",
        "X_test = test.drop(columns=[\"ExtentOfInjuryCode\"]).copy()\n",
        "y_test = label_encoder.transform(test[\"ExtentOfInjuryCode\"])\n",
        "\n",
        "# Create pipeline with same steps\n",
        "steps = []\n",
        "\n",
        "# SMOTE should NOT be used on test data\n",
        "# Only applied during training, not evaluation\n",
        "\n",
        "if use_pca:\n",
        "    steps += [(\"scaler\", StandardScaler()), (\"pca\", PCA(n_components=n_components, random_state=42))]\n",
        "\n",
        "# Final classifier using best hyperparameters\n",
        "rf = RandomForestClassifier(n_estimators=best_params[\"n_estimators\"],\n",
        "                            max_depth=best_params[\"max_depth\"],\n",
        "                            min_samples_split=best_params[\"min_samples_split\"],\n",
        "                            min_samples_leaf=best_params[\"min_samples_leaf\"],\n",
        "                            max_features=best_params[\"max_features\"],\n",
        "                            class_weight=\"balanced\",\n",
        "                            random_state=42,\n",
        "                            n_jobs=-1)\n",
        "\n",
        "steps.append((\"rf\", rf))\n",
        "pipeline = Pipeline(steps)\n",
        "\n",
        "# fit pipeline to full training data\n",
        "pipeline.fit(X_full, y_full)\n",
        "\n",
        "# predict on test data\n",
        "y_pred = pipeline.predict(X_test)\n",
        "\n",
        "# evaluate\n",
        "acc = accuracy_score(y_test, y_pred)\n",
        "f1_macro = f1_score(y_test, y_pred, average=\"macro\")\n",
        "f1_per_class = f1_score(y_test, y_pred, average= None, labels=[0, 1, 2, 3])\n",
        "fatal_index = list(class_names).index(\"Fatal\")\n",
        "f1_fatal = f1_per_class[fatal_index]\n",
        "\n",
        "print(\"\\n=== Final Evaluation on Test Set ===\")\n",
        "print(f\"Accuracy: {acc:.4f}\")\n",
        "print(f\"Macro F1 Score: {f1_macro:.4f}\")\n",
        "print(f\"F1 Score for 'Fatal': {f1_fatal:.4f}\")\n"
      ],
      "metadata": {
        "colab": {
          "base_uri": "https://localhost:8080/"
        },
        "id": "NxReru8I23Xn",
        "outputId": "3d127071-721b-49fa-ae23-27d73153f80d"
      },
      "execution_count": 6,
      "outputs": [
        {
          "output_type": "stream",
          "name": "stdout",
          "text": [
            "\n",
            "=== Final Evaluation on Test Set ===\n",
            "Accuracy: 0.6552\n",
            "Macro F1 Score: 0.4164\n",
            "F1 Score for 'Fatal': 0.1671\n"
          ]
        }
      ]
    },
    {
      "cell_type": "code",
      "source": [
        "class_names = label_encoder.classes_\n",
        "\n",
        "print(\"\\n=== Final Evaluation on Test Set ===\")\n",
        "print(f\"Accuracy: {acc:.4f}\")\n",
        "print(f\"Macro F1 Score: {f1_macro:.4f}\")\n",
        "for i, class_label in enumerate(class_names):\n",
        "    print(f\"F1 Score [{class_label}]: {f1_per_class[i]:.4f}\")"
      ],
      "metadata": {
        "colab": {
          "base_uri": "https://localhost:8080/"
        },
        "id": "4JA-e1LIolyh",
        "outputId": "3ce5b219-fc8c-4ec8-faab-3bf3c00b2a5c"
      },
      "execution_count": 4,
      "outputs": [
        {
          "output_type": "stream",
          "name": "stdout",
          "text": [
            "\n",
            "=== Final Evaluation on Test Set ===\n",
            "Accuracy: 0.6552\n",
            "Macro F1 Score: 0.4164\n",
            "F1 Score [Fatal]: 0.1671\n",
            "F1 Score [Minor]: 0.5488\n",
            "F1 Score [No Injury]: 0.7572\n",
            "F1 Score [Serious]: 0.1926\n"
          ]
        }
      ]
    },
    {
      "cell_type": "code",
      "source": [],
      "metadata": {
        "id": "KXMdU37g4h3c"
      },
      "execution_count": null,
      "outputs": []
    },
    {
      "cell_type": "markdown",
      "source": [
        "## Feature Importance"
      ],
      "metadata": {
        "id": "Vp2D58z35wu8"
      }
    },
    {
      "cell_type": "code",
      "execution_count": 15,
      "metadata": {
        "id": "aF6Wg2GHzY1F",
        "colab": {
          "base_uri": "https://localhost:8080/",
          "height": 472
        },
        "outputId": "8d987810-5f95-4e22-ed79-d7cb678ad710"
      },
      "outputs": [
        {
          "output_type": "display_data",
          "data": {
            "text/plain": [
              "<Figure size 640x480 with 1 Axes>"
            ],
            "image/png": "[encoded data removed]"
          },
          "metadata": {}
        }
      ],
      "source": [
        "import matplotlib.pyplot as plt\n",
        "\n",
        "# get the fitted RandomForest from the pipeline\n",
        "rf_model = pipeline.named_steps[\"rf\"]\n",
        "feature_names = X.columns\n",
        "importances = rf_model.feature_importances_\n",
        "\n",
        "# create a sorted plot\n",
        "feat_imp = pd.Series(importances, index=feature_names).sort_values(ascending=False)\n",
        "\n",
        "# plot top 10 important features\n",
        "feat_imp.head(10).plot(kind=\"barh\", color='#64D545')\n",
        "plt.xlabel(\"Feature Importance\")\n",
        "plt.ylabel(\"Feature\")\n",
        "plt.title(\"Top 10 Important Features\")\n",
        "plt.gca().invert_yaxis()\n",
        "plt.show()\n"
      ]
    },
    {
      "cell_type": "markdown",
      "metadata": {
        "id": "QuU9WeRJPPIh"
      },
      "source": [
        "# GitHub"
      ]
    },
    {
      "cell_type": "code",
      "execution_count": null,
      "metadata": {
        "colab": {
          "base_uri": "https://localhost:8080/"
        },
        "id": "RzIW3i3XOe5T",
        "outputId": "08f4e765-351f-4b87-dfca-2f8a145bc476"
      },
      "outputs": [
        {
          "name": "stdout",
          "output_type": "stream",
          "text": [
            "Enter your GitHub token: ··········\n",
            "Cloning into 'ds_207_final_project'...\n",
            "remote: Enumerating objects: 127, done.\u001b[K\n",
            "remote: Counting objects: 100% (127/127), done.\u001b[K\n",
            "remote: Compressing objects: 100% (113/113), done.\u001b[K\n",
            "remote: Total 127 (delta 55), reused 39 (delta 10), pack-reused 0 (from 0)\u001b[K\n",
            "Receiving objects: 100% (127/127), 11.30 MiB | 5.95 MiB/s, done.\n",
            "Resolving deltas: 100% (55/55), done.\n",
            "Filtering content: 100% (6/6), 561.80 MiB | 36.63 MiB/s, done.\n"
          ]
        }
      ],
      "source": [
        "# Connect to GitHub Repo\n",
        "from getpass import getpass\n",
        "\n",
        "# Step 1: Enter token securely\n",
        "token = getpass('Enter your GitHub token: ')\n",
        "\n",
        "# Step 2: Build the full URL\n",
        "repo_owner = \"christinesako-berk\"\n",
        "repo_name = \"ds_207_final_project\"\n",
        "repo_url = f\"https://{token}@github.com/{repo_owner}/{repo_name}.git\"\n",
        "\n",
        "# Clone repo\n",
        "!git clone \"{repo_url}\""
      ]
    },
    {
      "cell_type": "code",
      "execution_count": null,
      "metadata": {
        "colab": {
          "base_uri": "https://localhost:8080/"
        },
        "id": "eJv0nQ9NOTRj",
        "outputId": "30ce1ca1-6e2e-4881-cae0-24fec977e761"
      },
      "outputs": [
        {
          "name": "stdout",
          "output_type": "stream",
          "text": [
            "/content/ds_207_final_project/data/processed\n"
          ]
        }
      ],
      "source": [
        "%cd /content/ds_207_final_project/data/processed"
      ]
    },
    {
      "cell_type": "code",
      "execution_count": null,
      "metadata": {
        "colab": {
          "base_uri": "https://localhost:8080/"
        },
        "id": "UqhTI8SsOTOK",
        "outputId": "81147714-f8c5-4786-b572-ce5c63b97c3d"
      },
      "outputs": [
        {
          "name": "stdout",
          "output_type": "stream",
          "text": [
            "final_merged_2024.csv  final_merged_2025.csv\n"
          ]
        }
      ],
      "source": [
        "!ls"
      ]
    },
    {
      "cell_type": "code",
      "execution_count": null,
      "metadata": {
        "id": "LUbyYV5aOTKg"
      },
      "outputs": [],
      "source": [
        "!git branch caitlin"
      ]
    },
    {
      "cell_type": "code",
      "execution_count": null,
      "metadata": {
        "colab": {
          "base_uri": "https://localhost:8080/"
        },
        "id": "QgS2R7NFPunq",
        "outputId": "33d87295-d552-4312-f60d-b3f0639b460a"
      },
      "outputs": [
        {
          "name": "stdout",
          "output_type": "stream",
          "text": [
            "Switched to branch 'caitlin'\n"
          ]
        }
      ],
      "source": [
        "!git checkout caitlin"
      ]
    },
    {
      "cell_type": "code",
      "execution_count": null,
      "metadata": {
        "colab": {
          "base_uri": "https://localhost:8080/"
        },
        "id": "h35N200bPyiK",
        "outputId": "a65c3dc2-93bb-4f30-9d84-e98365064fd9"
      },
      "outputs": [
        {
          "name": "stdout",
          "output_type": "stream",
          "text": [
            "On branch caitlin\n",
            "nothing to commit, working tree clean\n"
          ]
        }
      ],
      "source": [
        "!git status"
      ]
    },
    {
      "cell_type": "code",
      "execution_count": null,
      "metadata": {
        "id": "I5_rnmkkVsGX"
      },
      "outputs": [],
      "source": []
    }
  ],
  "metadata": {
    "colab": {
      "provenance": []
    },
    "kernelspec": {
      "display_name": "Python 3",
      "name": "python3"
    },
    "language_info": {
      "name": "python"
    }
  },
  "nbformat": 4,
  "nbformat_minor": 0
}